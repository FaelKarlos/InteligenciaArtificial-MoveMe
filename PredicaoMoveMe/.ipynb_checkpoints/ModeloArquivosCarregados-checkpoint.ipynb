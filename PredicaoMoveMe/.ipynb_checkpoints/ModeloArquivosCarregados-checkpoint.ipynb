{
 "cells": [
  {
   "cell_type": "code",
   "execution_count": 1,
   "metadata": {},
   "outputs": [],
   "source": [
    "import pandas as pd\n",
    "import numpy as np\n",
    "import matplotlib.pyplot as plt\n",
    "import seaborn as sns\n",
    "from sklearn import datasets, linear_model\n",
    "from sklearn.linear_model import LinearRegression\n",
    "from sklearn.naive_bayes import GaussianNB, BernoulliNB, MultinomialNB\n",
    "from sklearn import preprocessing\n",
    "from sklearn.preprocessing import OneHotEncoder\n",
    "import pickle\n",
    "import json"
   ]
  },
  {
   "cell_type": "markdown",
   "metadata": {},
   "source": [
    "# Carrega os arquivos de dicionários e modelo"
   ]
  },
  {
   "cell_type": "code",
   "execution_count": 2,
   "metadata": {},
   "outputs": [],
   "source": [
    "def carregaArquivos():\n",
    "    #Carrega dicionário label\n",
    "    labelencoder_dictArquivo = open('labelencoder_dict_para_cozinha.sav', 'rb')\n",
    "    labelencoder_dict = pickle.load(labelencoder_dictArquivo)\n",
    "    \n",
    "    #Carrega dicionário onehotencoder\n",
    "    onehotencoder_dictArquivo = open('onehotencoder_dict_para_cozinha.sav', 'rb')\n",
    "    onehotencoder_dict = pickle.load(onehotencoder_dictArquivo)\n",
    "    \n",
    "    #Carrega modelo\n",
    "    modelo_arquivo = open('modelo_para_cozinha.pkl', 'rb')\n",
    "    modelo_carregado = pickle.load(modelo_arquivo)\n",
    "    return labelencoder_dict, onehotencoder_dict, modelo_carregado"
   ]
  },
  {
   "cell_type": "markdown",
   "metadata": {},
   "source": [
    "# Recebe arquivos carregados"
   ]
  },
  {
   "cell_type": "code",
   "execution_count": 3,
   "metadata": {},
   "outputs": [],
   "source": [
    "label_dict, onehot_dict, modelo = carregaArquivos()"
   ]
  },
  {
   "cell_type": "markdown",
   "metadata": {},
   "source": [
    "# Função que compara dados com o dicionário"
   ]
  },
  {
   "cell_type": "code",
   "execution_count": 4,
   "metadata": {},
   "outputs": [],
   "source": [
    "def getEncoded(test_data,labelencoder_dict,onehotencoder_dict):\n",
    "    test_encoded_x = None\n",
    "    for i in range(0,test_data.shape[1]):\n",
    "        label_encoder =  labelencoder_dict[i]\n",
    "        feature = label_encoder.transform(test_data.iloc[:,i])\n",
    "        feature = feature.reshape(test_data.shape[0], 1)\n",
    "        onehot_encoder = onehotencoder_dict[i]\n",
    "        feature = onehot_encoder.transform(feature)\n",
    "        if test_encoded_x is None:\n",
    "              test_encoded_x = feature\n",
    "        else:\n",
    "              test_encoded_x = np.concatenate((test_encoded_x, feature), axis=1)\n",
    "    return test_encoded_x"
   ]
  },
  {
   "cell_type": "markdown",
   "metadata": {},
   "source": [
    "# Escolha de restaurante do usuário"
   ]
  },
  {
   "cell_type": "code",
   "execution_count": 5,
   "metadata": {},
   "outputs": [],
   "source": [
    "escolha = ['Excellent', 1000, 4, 4, 600]"
   ]
  },
  {
   "cell_type": "markdown",
   "metadata": {},
   "source": [
    "# Classifica escolha do usuário"
   ]
  },
  {
   "cell_type": "code",
   "execution_count": 6,
   "metadata": {},
   "outputs": [],
   "source": [
    "def classificaEscolha(escolhaLista, label_dict, onehot_dict, modelo_carregado):\n",
    "    #Converte valores string em dataframe\n",
    "    colunasCategoricasPredicao = [{'cozinha': escolhaLista[0], 'votos': escolhaLista[1]}]\n",
    "    colunasCategoricasPredicaoDic = pd.DataFrame(colunasCategoricasPredicao)\n",
    "    \n",
    "    #Busca dataframe no dicionário\n",
    "    dicionarioCategoriasPredicaoParte1 = getEncoded(colunasCategoricasPredicaoDic, label_dict, onehot_dict)\n",
    "    \n",
    "    #Transforma partes em numpy array\n",
    "    PegandoParte2Escolha = np.asarray(escolhaLista[2:])\n",
    "    Parte2Escolha = PegandoParte2Escolha.reshape(1,3)\n",
    "    escolha_para_predicao = np.concatenate((dicionarioCategoriasPredicaoParte1, Parte2Escolha), axis=1)\n",
    "    return modelo.predict(escolha_para_predicao)"
   ]
  },
  {
   "cell_type": "code",
   "execution_count": null,
   "metadata": {},
   "outputs": [],
   "source": [
    "def escolhaParaVetorPredicao(escolhaLista):\n",
    "    colunasCategoricasPredicao = [{'cozinha': escolhaLista[0]}, {'das': escolhaLista[1]}]\n",
    "    colunasCategoricasPredicaoDic = pd.DataFrame(colunasCategoricasPredicao)\n",
    "    return colunasCategoricasPredicaoDic"
   ]
  },
  {
   "cell_type": "code",
   "execution_count": 8,
   "metadata": {},
   "outputs": [],
   "source": [
    "data = {'c1':[escolha[0]], 'c2':[escolha[0]]} \n",
    "  \n",
    "# Create DataFrame \n",
    "datas = pd.DataFrame(data) "
   ]
  },
  {
   "cell_type": "code",
   "execution_count": null,
   "metadata": {},
   "outputs": [],
   "source": [
    "dfescolhaParaVetorPredicao = escolhaParaVetorPredicao(escolha)"
   ]
  },
  {
   "cell_type": "code",
   "execution_count": 10,
   "metadata": {},
   "outputs": [],
   "source": [
    "dicionarioCategoriasPredicaoParte1 = getEncoded(datas,label_dict,onehot_dict)"
   ]
  },
  {
   "cell_type": "code",
   "execution_count": 11,
   "metadata": {},
   "outputs": [
    {
     "data": {
      "text/plain": [
       "(1, 12)"
      ]
     },
     "execution_count": 11,
     "metadata": {},
     "output_type": "execute_result"
    }
   ],
   "source": [
    "dicionarioCategoriasPredicaoParte1.shape"
   ]
  },
  {
   "cell_type": "code",
   "execution_count": 13,
   "metadata": {},
   "outputs": [],
   "source": [
    "def concatenaParte1e2Dicionario(dicionarioCategoriasPredicaoParte1, escolha):\n",
    "    PegandoParte2Escolha = np.asarray(escolha[1:])\n",
    "    Parte2Escolha = PegandoParte2Escolha.reshape(1,4)\n",
    "    escolha_para_predicao = np.concatenate((dicionarioCategoriasPredicaoParte1, Parte2Escolha), axis=1)\n",
    "    \n",
    "    return escolha_para_predicao"
   ]
  },
  {
   "cell_type": "code",
   "execution_count": 15,
   "metadata": {},
   "outputs": [],
   "source": [
    "dfConcatenadoPraPredicao = concatenaParte1e2Dicionario(dicionarioCategoriasPredicaoParte1, escolha)"
   ]
  },
  {
   "cell_type": "code",
   "execution_count": 17,
   "metadata": {},
   "outputs": [
    {
     "name": "stdout",
     "output_type": "stream",
     "text": [
      "[39]\n"
     ]
    }
   ],
   "source": [
    "predicaovalor = modelo.predict(dfConcatenadoPraPredicao)\n",
    "print([predicaovalor[0]])"
   ]
  },
  {
   "cell_type": "code",
   "execution_count": null,
   "metadata": {},
   "outputs": [],
   "source": [
    "def buscarestaurante(valorpredicao):\n",
    "    for item in range(len(y_train)):\n",
    "        if y_train.values[item] == [predicaovalor[0]]:\n",
    "                return dfColunasParaDicionarizar.loc[[item]]"
   ]
  },
  {
   "cell_type": "code",
   "execution_count": 30,
   "metadata": {},
   "outputs": [
    {
     "name": "stdout",
     "output_type": "stream",
     "text": [
      "Média de preço predição carregada para características buscadas:  [230]\n"
     ]
    }
   ],
   "source": [
    "print(\"Média de preço predição carregada para características buscadas: \", classificaEscolha(escolha, label_dict, onehot_dict, modelo))"
   ]
  }
 ],
 "metadata": {
  "kernelspec": {
   "display_name": "Python 3",
   "language": "python",
   "name": "python3"
  },
  "language_info": {
   "codemirror_mode": {
    "name": "ipython",
    "version": 3
   },
   "file_extension": ".py",
   "mimetype": "text/x-python",
   "name": "python",
   "nbconvert_exporter": "python",
   "pygments_lexer": "ipython3",
   "version": "3.7.3"
  }
 },
 "nbformat": 4,
 "nbformat_minor": 2
}
