{
 "cells": [
  {
   "cell_type": "code",
   "execution_count": 2,
   "metadata": {},
   "outputs": [],
   "source": [
    "import pandas as pd\n",
    "import numpy as np\n",
    "import matplotlib.pyplot as plt\n",
    "import seaborn as sns\n",
    "from sklearn import datasets, linear_model\n",
    "from sklearn.linear_model import LinearRegression\n",
    "from sklearn.naive_bayes import GaussianNB, BernoulliNB, MultinomialNB\n",
    "from sklearn import preprocessing\n",
    "from sklearn.preprocessing import OneHotEncoder\n",
    "import pickle"
   ]
  },
  {
   "cell_type": "code",
   "execution_count": 3,
   "metadata": {},
   "outputs": [],
   "source": [
    "zomato = pd.read_csv('zomato.csv', encoding='latin-1')"
   ]
  },
  {
   "cell_type": "code",
   "execution_count": 3,
   "metadata": {},
   "outputs": [],
   "source": [
    "baseReduzida = zomato"
   ]
  },
  {
   "cell_type": "code",
   "execution_count": 4,
   "metadata": {},
   "outputs": [],
   "source": [
    "baseReduzida.rename(columns={'Average Cost for two':'media_preco',\n",
    "                          'Price range':'alcance_preco',\n",
    "                          'Aggregate rating':'classifi_agregada',\n",
    "                          'Votes':'votos',\n",
    "                           'Rating text':'taxa_votos',\n",
    "                          'Cuisines':'cozinha'}, \n",
    "                 inplace=True)"
   ]
  },
  {
   "cell_type": "code",
   "execution_count": 10,
   "metadata": {},
   "outputs": [
    {
     "data": {
      "text/plain": [
       "(1679, 21)"
      ]
     },
     "execution_count": 10,
     "metadata": {},
     "output_type": "execute_result"
    }
   ],
   "source": [
    "baseReduzida = baseReduzida[~baseReduzida[\"cozinha\"].str.contains(\" \", na=False)]\n",
    "baseReduzida.shape"
   ]
  },
  {
   "cell_type": "code",
   "execution_count": 14,
   "metadata": {},
   "outputs": [],
   "source": [
    "baseReduzida.to_csv('basereduzida.csv', index=False)"
   ]
  },
  {
   "cell_type": "code",
   "execution_count": 15,
   "metadata": {},
   "outputs": [],
   "source": [
    "t = pd.read_csv('basereduzida.csv', encoding='latin-1')"
   ]
  },
  {
   "cell_type": "code",
   "execution_count": 22,
   "metadata": {},
   "outputs": [],
   "source": [
    "zomato.rename(columns={'Average Cost for two':'media_preco',\n",
    "                          'Price range':'alcance_preco',\n",
    "                          'Aggregate rating':'classifi_agregada',\n",
    "                          'Votes':'votos',\n",
    "                           'Rating text':'taxa_votos',\n",
    "                          'Cuisines':'cozinha'}, \n",
    "                 inplace=True)"
   ]
  },
  {
   "cell_type": "code",
   "execution_count": 23,
   "metadata": {},
   "outputs": [
    {
     "data": {
      "text/html": [
       "<div>\n",
       "<style scoped>\n",
       "    .dataframe tbody tr th:only-of-type {\n",
       "        vertical-align: middle;\n",
       "    }\n",
       "\n",
       "    .dataframe tbody tr th {\n",
       "        vertical-align: top;\n",
       "    }\n",
       "\n",
       "    .dataframe thead th {\n",
       "        text-align: right;\n",
       "    }\n",
       "</style>\n",
       "<table border=\"1\" class=\"dataframe\">\n",
       "  <thead>\n",
       "    <tr style=\"text-align: right;\">\n",
       "      <th></th>\n",
       "      <th>Restaurant ID</th>\n",
       "      <th>Restaurant Name</th>\n",
       "      <th>Country Code</th>\n",
       "      <th>City</th>\n",
       "      <th>Address</th>\n",
       "      <th>Locality</th>\n",
       "      <th>Locality Verbose</th>\n",
       "      <th>Longitude</th>\n",
       "      <th>Latitude</th>\n",
       "      <th>cozinha</th>\n",
       "      <th>...</th>\n",
       "      <th>Currency</th>\n",
       "      <th>Has Table booking</th>\n",
       "      <th>Has Online delivery</th>\n",
       "      <th>Is delivering now</th>\n",
       "      <th>Switch to order menu</th>\n",
       "      <th>alcance_preco</th>\n",
       "      <th>classifi_agregada</th>\n",
       "      <th>Rating color</th>\n",
       "      <th>taxa_votos</th>\n",
       "      <th>votos</th>\n",
       "    </tr>\n",
       "  </thead>\n",
       "  <tbody>\n",
       "    <tr>\n",
       "      <th>0</th>\n",
       "      <td>6317637</td>\n",
       "      <td>Le Petit Souffle</td>\n",
       "      <td>162</td>\n",
       "      <td>Makati City</td>\n",
       "      <td>Third Floor, Century City Mall, Kalayaan Avenu...</td>\n",
       "      <td>Century City Mall, Poblacion, Makati City</td>\n",
       "      <td>Century City Mall, Poblacion, Makati City, Mak...</td>\n",
       "      <td>121.027535</td>\n",
       "      <td>14.565443</td>\n",
       "      <td>French, Japanese, Desserts</td>\n",
       "      <td>...</td>\n",
       "      <td>Botswana Pula(P)</td>\n",
       "      <td>Yes</td>\n",
       "      <td>No</td>\n",
       "      <td>No</td>\n",
       "      <td>No</td>\n",
       "      <td>3</td>\n",
       "      <td>4.8</td>\n",
       "      <td>Dark Green</td>\n",
       "      <td>Excellent</td>\n",
       "      <td>314</td>\n",
       "    </tr>\n",
       "    <tr>\n",
       "      <th>1</th>\n",
       "      <td>6304287</td>\n",
       "      <td>Izakaya Kikufuji</td>\n",
       "      <td>162</td>\n",
       "      <td>Makati City</td>\n",
       "      <td>Little Tokyo, 2277 Chino Roces Avenue, Legaspi...</td>\n",
       "      <td>Little Tokyo, Legaspi Village, Makati City</td>\n",
       "      <td>Little Tokyo, Legaspi Village, Makati City, Ma...</td>\n",
       "      <td>121.014101</td>\n",
       "      <td>14.553708</td>\n",
       "      <td>Japanese</td>\n",
       "      <td>...</td>\n",
       "      <td>Botswana Pula(P)</td>\n",
       "      <td>Yes</td>\n",
       "      <td>No</td>\n",
       "      <td>No</td>\n",
       "      <td>No</td>\n",
       "      <td>3</td>\n",
       "      <td>4.5</td>\n",
       "      <td>Dark Green</td>\n",
       "      <td>Excellent</td>\n",
       "      <td>591</td>\n",
       "    </tr>\n",
       "    <tr>\n",
       "      <th>2</th>\n",
       "      <td>6300002</td>\n",
       "      <td>Heat - Edsa Shangri-La</td>\n",
       "      <td>162</td>\n",
       "      <td>Mandaluyong City</td>\n",
       "      <td>Edsa Shangri-La, 1 Garden Way, Ortigas, Mandal...</td>\n",
       "      <td>Edsa Shangri-La, Ortigas, Mandaluyong City</td>\n",
       "      <td>Edsa Shangri-La, Ortigas, Mandaluyong City, Ma...</td>\n",
       "      <td>121.056831</td>\n",
       "      <td>14.581404</td>\n",
       "      <td>Seafood, Asian, Filipino, Indian</td>\n",
       "      <td>...</td>\n",
       "      <td>Botswana Pula(P)</td>\n",
       "      <td>Yes</td>\n",
       "      <td>No</td>\n",
       "      <td>No</td>\n",
       "      <td>No</td>\n",
       "      <td>4</td>\n",
       "      <td>4.4</td>\n",
       "      <td>Green</td>\n",
       "      <td>Very Good</td>\n",
       "      <td>270</td>\n",
       "    </tr>\n",
       "  </tbody>\n",
       "</table>\n",
       "<p>3 rows × 21 columns</p>\n",
       "</div>"
      ],
      "text/plain": [
       "   Restaurant ID         Restaurant Name  Country Code              City  \\\n",
       "0        6317637        Le Petit Souffle           162       Makati City   \n",
       "1        6304287        Izakaya Kikufuji           162       Makati City   \n",
       "2        6300002  Heat - Edsa Shangri-La           162  Mandaluyong City   \n",
       "\n",
       "                                             Address  \\\n",
       "0  Third Floor, Century City Mall, Kalayaan Avenu...   \n",
       "1  Little Tokyo, 2277 Chino Roces Avenue, Legaspi...   \n",
       "2  Edsa Shangri-La, 1 Garden Way, Ortigas, Mandal...   \n",
       "\n",
       "                                     Locality  \\\n",
       "0   Century City Mall, Poblacion, Makati City   \n",
       "1  Little Tokyo, Legaspi Village, Makati City   \n",
       "2  Edsa Shangri-La, Ortigas, Mandaluyong City   \n",
       "\n",
       "                                    Locality Verbose   Longitude   Latitude  \\\n",
       "0  Century City Mall, Poblacion, Makati City, Mak...  121.027535  14.565443   \n",
       "1  Little Tokyo, Legaspi Village, Makati City, Ma...  121.014101  14.553708   \n",
       "2  Edsa Shangri-La, Ortigas, Mandaluyong City, Ma...  121.056831  14.581404   \n",
       "\n",
       "                            cozinha  ...          Currency Has Table booking  \\\n",
       "0        French, Japanese, Desserts  ...  Botswana Pula(P)               Yes   \n",
       "1                          Japanese  ...  Botswana Pula(P)               Yes   \n",
       "2  Seafood, Asian, Filipino, Indian  ...  Botswana Pula(P)               Yes   \n",
       "\n",
       "  Has Online delivery Is delivering now Switch to order menu alcance_preco  \\\n",
       "0                  No                No                   No             3   \n",
       "1                  No                No                   No             3   \n",
       "2                  No                No                   No             4   \n",
       "\n",
       "   classifi_agregada  Rating color taxa_votos votos  \n",
       "0                4.8    Dark Green  Excellent   314  \n",
       "1                4.5    Dark Green  Excellent   591  \n",
       "2                4.4         Green  Very Good   270  \n",
       "\n",
       "[3 rows x 21 columns]"
      ]
     },
     "execution_count": 23,
     "metadata": {},
     "output_type": "execute_result"
    }
   ],
   "source": [
    "zomato.head(3)"
   ]
  },
  {
   "cell_type": "code",
   "execution_count": 4,
   "metadata": {},
   "outputs": [],
   "source": [
    "zomato.rename(columns={'Average Cost for two':'media_preco',\n",
    "                          'Price range':'alcance_preco',\n",
    "                          'Aggregate rating':'classifi_agregada',\n",
    "                          'Votes':'votos',\n",
    "                           'Rating text':'taxa_votos',\n",
    "                          'Cuisines':'cozinha'}, \n",
    "                 inplace=True)"
   ]
  },
  {
   "cell_type": "code",
   "execution_count": 5,
   "metadata": {},
   "outputs": [
    {
     "data": {
      "text/html": [
       "<div>\n",
       "<style scoped>\n",
       "    .dataframe tbody tr th:only-of-type {\n",
       "        vertical-align: middle;\n",
       "    }\n",
       "\n",
       "    .dataframe tbody tr th {\n",
       "        vertical-align: top;\n",
       "    }\n",
       "\n",
       "    .dataframe thead th {\n",
       "        text-align: right;\n",
       "    }\n",
       "</style>\n",
       "<table border=\"1\" class=\"dataframe\">\n",
       "  <thead>\n",
       "    <tr style=\"text-align: right;\">\n",
       "      <th></th>\n",
       "      <th>cozinha</th>\n",
       "      <th>taxa_votos</th>\n",
       "      <th>media_preco</th>\n",
       "      <th>alcance_preco</th>\n",
       "      <th>classifi_agregada</th>\n",
       "      <th>votos</th>\n",
       "    </tr>\n",
       "  </thead>\n",
       "  <tbody>\n",
       "    <tr>\n",
       "      <th>0</th>\n",
       "      <td>French, Japanese, Desserts</td>\n",
       "      <td>Excellent</td>\n",
       "      <td>1100</td>\n",
       "      <td>3</td>\n",
       "      <td>4.8</td>\n",
       "      <td>314</td>\n",
       "    </tr>\n",
       "    <tr>\n",
       "      <th>1</th>\n",
       "      <td>Japanese</td>\n",
       "      <td>Excellent</td>\n",
       "      <td>1200</td>\n",
       "      <td>3</td>\n",
       "      <td>4.5</td>\n",
       "      <td>591</td>\n",
       "    </tr>\n",
       "    <tr>\n",
       "      <th>2</th>\n",
       "      <td>Seafood, Asian, Filipino, Indian</td>\n",
       "      <td>Very Good</td>\n",
       "      <td>4000</td>\n",
       "      <td>4</td>\n",
       "      <td>4.4</td>\n",
       "      <td>270</td>\n",
       "    </tr>\n",
       "  </tbody>\n",
       "</table>\n",
       "</div>"
      ],
      "text/plain": [
       "                            cozinha taxa_votos  media_preco  alcance_preco  \\\n",
       "0        French, Japanese, Desserts  Excellent         1100              3   \n",
       "1                          Japanese  Excellent         1200              3   \n",
       "2  Seafood, Asian, Filipino, Indian  Very Good         4000              4   \n",
       "\n",
       "   classifi_agregada  votos  \n",
       "0                4.8    314  \n",
       "1                4.5    591  \n",
       "2                4.4    270  "
      ]
     },
     "execution_count": 5,
     "metadata": {},
     "output_type": "execute_result"
    }
   ],
   "source": [
    "df = pd.DataFrame((zomato[['cozinha', 'taxa_votos', 'media_preco', 'alcance_preco', 'classifi_agregada', 'votos']]))\n",
    "df.head(3)"
   ]
  },
  {
   "cell_type": "code",
   "execution_count": 6,
   "metadata": {},
   "outputs": [
    {
     "name": "stdout",
     "output_type": "stream",
     "text": [
      "    cozinha taxa_votos  media_preco  alcance_preco  classifi_agregada  votos\n",
      "1  Japanese  Excellent         1200              3                4.5    591\n",
      "5   Chinese  Very Good         1000              3                4.4    336\n",
      "9  Filipino  Excellent         1100              3                4.8    532\n"
     ]
    }
   ],
   "source": [
    "dfColunasParaDicionarizar = df[~df[\"cozinha\"].str.contains(\" \", na=False)]\n",
    "print(dfColunasParaDicionarizar.head(3))"
   ]
  },
  {
   "cell_type": "code",
   "execution_count": 7,
   "metadata": {},
   "outputs": [
    {
     "name": "stderr",
     "output_type": "stream",
     "text": [
      "C:\\Anaconda3\\lib\\site-packages\\ipykernel_launcher.py:2: SettingWithCopyWarning: \n",
      "A value is trying to be set on a copy of a slice from a DataFrame.\n",
      "Try using .loc[row_indexer,col_indexer] = value instead\n",
      "\n",
      "See the caveats in the documentation: http://pandas.pydata.org/pandas-docs/stable/indexing.html#indexing-view-versus-copy\n",
      "  \n"
     ]
    }
   ],
   "source": [
    "#dfColunasParaDicionarizar.isnull().sum()\n",
    "dfColunasParaDicionarizar['cozinha'] = dfColunasParaDicionarizar['cozinha'].fillna(\"Brazilian\")"
   ]
  },
  {
   "cell_type": "code",
   "execution_count": 8,
   "metadata": {},
   "outputs": [
    {
     "data": {
      "text/plain": [
       "cozinha              0\n",
       "taxa_votos           0\n",
       "media_preco          0\n",
       "alcance_preco        0\n",
       "classifi_agregada    0\n",
       "votos                0\n",
       "dtype: int64"
      ]
     },
     "execution_count": 8,
     "metadata": {},
     "output_type": "execute_result"
    }
   ],
   "source": [
    "dfColunasParaDicionarizar.isnull().sum()"
   ]
  },
  {
   "cell_type": "code",
   "execution_count": 15,
   "metadata": {},
   "outputs": [
    {
     "data": {
      "text/html": [
       "<div>\n",
       "<style scoped>\n",
       "    .dataframe tbody tr th:only-of-type {\n",
       "        vertical-align: middle;\n",
       "    }\n",
       "\n",
       "    .dataframe tbody tr th {\n",
       "        vertical-align: top;\n",
       "    }\n",
       "\n",
       "    .dataframe thead th {\n",
       "        text-align: right;\n",
       "    }\n",
       "</style>\n",
       "<table border=\"1\" class=\"dataframe\">\n",
       "  <thead>\n",
       "    <tr style=\"text-align: right;\">\n",
       "      <th></th>\n",
       "      <th>cozinha</th>\n",
       "      <th>taxa_votos</th>\n",
       "      <th>media_preco</th>\n",
       "      <th>alcance_preco</th>\n",
       "      <th>classifi_agregada</th>\n",
       "      <th>votos</th>\n",
       "    </tr>\n",
       "  </thead>\n",
       "  <tbody>\n",
       "    <tr>\n",
       "      <th>1</th>\n",
       "      <td>Japanese</td>\n",
       "      <td>Excellent</td>\n",
       "      <td>1200</td>\n",
       "      <td>3</td>\n",
       "      <td>4.5</td>\n",
       "      <td>591</td>\n",
       "    </tr>\n",
       "    <tr>\n",
       "      <th>5</th>\n",
       "      <td>Chinese</td>\n",
       "      <td>Very Good</td>\n",
       "      <td>1000</td>\n",
       "      <td>3</td>\n",
       "      <td>4.4</td>\n",
       "      <td>336</td>\n",
       "    </tr>\n",
       "    <tr>\n",
       "      <th>9</th>\n",
       "      <td>Filipino</td>\n",
       "      <td>Excellent</td>\n",
       "      <td>1100</td>\n",
       "      <td>3</td>\n",
       "      <td>4.8</td>\n",
       "      <td>532</td>\n",
       "    </tr>\n",
       "    <tr>\n",
       "      <th>13</th>\n",
       "      <td>Filipino</td>\n",
       "      <td>Very Good</td>\n",
       "      <td>1000</td>\n",
       "      <td>3</td>\n",
       "      <td>4.2</td>\n",
       "      <td>458</td>\n",
       "    </tr>\n",
       "    <tr>\n",
       "      <th>14</th>\n",
       "      <td>Korean</td>\n",
       "      <td>Very Good</td>\n",
       "      <td>700</td>\n",
       "      <td>3</td>\n",
       "      <td>4.3</td>\n",
       "      <td>223</td>\n",
       "    </tr>\n",
       "    <tr>\n",
       "      <th>17</th>\n",
       "      <td>Filipino</td>\n",
       "      <td>Excellent</td>\n",
       "      <td>1200</td>\n",
       "      <td>3</td>\n",
       "      <td>4.5</td>\n",
       "      <td>211</td>\n",
       "    </tr>\n",
       "    <tr>\n",
       "      <th>23</th>\n",
       "      <td>Cafe</td>\n",
       "      <td>Good</td>\n",
       "      <td>30</td>\n",
       "      <td>1</td>\n",
       "      <td>3.8</td>\n",
       "      <td>9</td>\n",
       "    </tr>\n",
       "    <tr>\n",
       "      <th>24</th>\n",
       "      <td>Bakery</td>\n",
       "      <td>Good</td>\n",
       "      <td>45</td>\n",
       "      <td>2</td>\n",
       "      <td>3.7</td>\n",
       "      <td>11</td>\n",
       "    </tr>\n",
       "    <tr>\n",
       "      <th>25</th>\n",
       "      <td>Brazilian</td>\n",
       "      <td>Good</td>\n",
       "      <td>60</td>\n",
       "      <td>3</td>\n",
       "      <td>3.8</td>\n",
       "      <td>11</td>\n",
       "    </tr>\n",
       "    <tr>\n",
       "      <th>26</th>\n",
       "      <td>Pizza</td>\n",
       "      <td>Average</td>\n",
       "      <td>50</td>\n",
       "      <td>2</td>\n",
       "      <td>3.2</td>\n",
       "      <td>11</td>\n",
       "    </tr>\n",
       "    <tr>\n",
       "      <th>27</th>\n",
       "      <td>Japanese</td>\n",
       "      <td>Average</td>\n",
       "      <td>80</td>\n",
       "      <td>3</td>\n",
       "      <td>3.1</td>\n",
       "      <td>10</td>\n",
       "    </tr>\n",
       "    <tr>\n",
       "      <th>28</th>\n",
       "      <td>Arabian</td>\n",
       "      <td>Good</td>\n",
       "      <td>90</td>\n",
       "      <td>3</td>\n",
       "      <td>3.7</td>\n",
       "      <td>8</td>\n",
       "    </tr>\n",
       "    <tr>\n",
       "      <th>29</th>\n",
       "      <td>Japanese</td>\n",
       "      <td>Good</td>\n",
       "      <td>200</td>\n",
       "      <td>4</td>\n",
       "      <td>3.7</td>\n",
       "      <td>5</td>\n",
       "    </tr>\n",
       "    <tr>\n",
       "      <th>31</th>\n",
       "      <td>Italian</td>\n",
       "      <td>Very Good</td>\n",
       "      <td>150</td>\n",
       "      <td>4</td>\n",
       "      <td>4.1</td>\n",
       "      <td>12</td>\n",
       "    </tr>\n",
       "    <tr>\n",
       "      <th>32</th>\n",
       "      <td>Pizza</td>\n",
       "      <td>Average</td>\n",
       "      <td>100</td>\n",
       "      <td>4</td>\n",
       "      <td>3.1</td>\n",
       "      <td>9</td>\n",
       "    </tr>\n",
       "    <tr>\n",
       "      <th>35</th>\n",
       "      <td>International</td>\n",
       "      <td>Very Good</td>\n",
       "      <td>230</td>\n",
       "      <td>4</td>\n",
       "      <td>4.2</td>\n",
       "      <td>17</td>\n",
       "    </tr>\n",
       "    <tr>\n",
       "      <th>38</th>\n",
       "      <td>Seafood</td>\n",
       "      <td>Average</td>\n",
       "      <td>240</td>\n",
       "      <td>4</td>\n",
       "      <td>3.2</td>\n",
       "      <td>6</td>\n",
       "    </tr>\n",
       "    <tr>\n",
       "      <th>39</th>\n",
       "      <td>International</td>\n",
       "      <td>Excellent</td>\n",
       "      <td>230</td>\n",
       "      <td>4</td>\n",
       "      <td>4.9</td>\n",
       "      <td>30</td>\n",
       "    </tr>\n",
       "    <tr>\n",
       "      <th>40</th>\n",
       "      <td>Italian</td>\n",
       "      <td>Average</td>\n",
       "      <td>350</td>\n",
       "      <td>4</td>\n",
       "      <td>3.3</td>\n",
       "      <td>8</td>\n",
       "    </tr>\n",
       "    <tr>\n",
       "      <th>46</th>\n",
       "      <td>Lebanese</td>\n",
       "      <td>Very Good</td>\n",
       "      <td>170</td>\n",
       "      <td>4</td>\n",
       "      <td>4.2</td>\n",
       "      <td>11</td>\n",
       "    </tr>\n",
       "    <tr>\n",
       "      <th>47</th>\n",
       "      <td>Burger</td>\n",
       "      <td>Excellent</td>\n",
       "      <td>60</td>\n",
       "      <td>3</td>\n",
       "      <td>4.8</td>\n",
       "      <td>19</td>\n",
       "    </tr>\n",
       "    <tr>\n",
       "      <th>51</th>\n",
       "      <td>Brazilian</td>\n",
       "      <td>Excellent</td>\n",
       "      <td>170</td>\n",
       "      <td>4</td>\n",
       "      <td>4.6</td>\n",
       "      <td>21</td>\n",
       "    </tr>\n",
       "    <tr>\n",
       "      <th>52</th>\n",
       "      <td>Brazilian</td>\n",
       "      <td>Very Good</td>\n",
       "      <td>90</td>\n",
       "      <td>3</td>\n",
       "      <td>4.3</td>\n",
       "      <td>14</td>\n",
       "    </tr>\n",
       "    <tr>\n",
       "      <th>53</th>\n",
       "      <td>Italian</td>\n",
       "      <td>Very Good</td>\n",
       "      <td>150</td>\n",
       "      <td>4</td>\n",
       "      <td>4.0</td>\n",
       "      <td>5</td>\n",
       "    </tr>\n",
       "    <tr>\n",
       "      <th>54</th>\n",
       "      <td>Japanese</td>\n",
       "      <td>Excellent</td>\n",
       "      <td>250</td>\n",
       "      <td>4</td>\n",
       "      <td>4.6</td>\n",
       "      <td>25</td>\n",
       "    </tr>\n",
       "    <tr>\n",
       "      <th>56</th>\n",
       "      <td>Brazilian</td>\n",
       "      <td>Very Good</td>\n",
       "      <td>40</td>\n",
       "      <td>2</td>\n",
       "      <td>4.2</td>\n",
       "      <td>7</td>\n",
       "    </tr>\n",
       "    <tr>\n",
       "      <th>59</th>\n",
       "      <td>Brazilian</td>\n",
       "      <td>Excellent</td>\n",
       "      <td>300</td>\n",
       "      <td>4</td>\n",
       "      <td>4.7</td>\n",
       "      <td>44</td>\n",
       "    </tr>\n",
       "    <tr>\n",
       "      <th>64</th>\n",
       "      <td>Indian</td>\n",
       "      <td>Average</td>\n",
       "      <td>70</td>\n",
       "      <td>3</td>\n",
       "      <td>3.1</td>\n",
       "      <td>5</td>\n",
       "    </tr>\n",
       "    <tr>\n",
       "      <th>65</th>\n",
       "      <td>Brazilian</td>\n",
       "      <td>Very Good</td>\n",
       "      <td>100</td>\n",
       "      <td>4</td>\n",
       "      <td>4.1</td>\n",
       "      <td>15</td>\n",
       "    </tr>\n",
       "    <tr>\n",
       "      <th>69</th>\n",
       "      <td>Brazilian</td>\n",
       "      <td>Not rated</td>\n",
       "      <td>55</td>\n",
       "      <td>2</td>\n",
       "      <td>0.0</td>\n",
       "      <td>0</td>\n",
       "    </tr>\n",
       "    <tr>\n",
       "      <th>...</th>\n",
       "      <td>...</td>\n",
       "      <td>...</td>\n",
       "      <td>...</td>\n",
       "      <td>...</td>\n",
       "      <td>...</td>\n",
       "      <td>...</td>\n",
       "    </tr>\n",
       "    <tr>\n",
       "      <th>9441</th>\n",
       "      <td>Cafe</td>\n",
       "      <td>Very Good</td>\n",
       "      <td>150</td>\n",
       "      <td>2</td>\n",
       "      <td>4.4</td>\n",
       "      <td>514</td>\n",
       "    </tr>\n",
       "    <tr>\n",
       "      <th>9444</th>\n",
       "      <td>Mediterranean</td>\n",
       "      <td>Excellent</td>\n",
       "      <td>350</td>\n",
       "      <td>4</td>\n",
       "      <td>4.5</td>\n",
       "      <td>356</td>\n",
       "    </tr>\n",
       "    <tr>\n",
       "      <th>9446</th>\n",
       "      <td>Sushi</td>\n",
       "      <td>Good</td>\n",
       "      <td>250</td>\n",
       "      <td>3</td>\n",
       "      <td>3.8</td>\n",
       "      <td>127</td>\n",
       "    </tr>\n",
       "    <tr>\n",
       "      <th>9458</th>\n",
       "      <td>Tapas</td>\n",
       "      <td>Excellent</td>\n",
       "      <td>700</td>\n",
       "      <td>4</td>\n",
       "      <td>4.9</td>\n",
       "      <td>194</td>\n",
       "    </tr>\n",
       "    <tr>\n",
       "      <th>9463</th>\n",
       "      <td>American</td>\n",
       "      <td>Very Good</td>\n",
       "      <td>515</td>\n",
       "      <td>4</td>\n",
       "      <td>4.2</td>\n",
       "      <td>212</td>\n",
       "    </tr>\n",
       "    <tr>\n",
       "      <th>9465</th>\n",
       "      <td>African</td>\n",
       "      <td>Excellent</td>\n",
       "      <td>450</td>\n",
       "      <td>4</td>\n",
       "      <td>4.7</td>\n",
       "      <td>373</td>\n",
       "    </tr>\n",
       "    <tr>\n",
       "      <th>9467</th>\n",
       "      <td>Indian</td>\n",
       "      <td>Very Good</td>\n",
       "      <td>320</td>\n",
       "      <td>4</td>\n",
       "      <td>4.4</td>\n",
       "      <td>147</td>\n",
       "    </tr>\n",
       "    <tr>\n",
       "      <th>9470</th>\n",
       "      <td>Mexican</td>\n",
       "      <td>Very Good</td>\n",
       "      <td>300</td>\n",
       "      <td>4</td>\n",
       "      <td>4.3</td>\n",
       "      <td>116</td>\n",
       "    </tr>\n",
       "    <tr>\n",
       "      <th>9474</th>\n",
       "      <td>Continental</td>\n",
       "      <td>Very Good</td>\n",
       "      <td>600</td>\n",
       "      <td>4</td>\n",
       "      <td>4.4</td>\n",
       "      <td>84</td>\n",
       "    </tr>\n",
       "    <tr>\n",
       "      <th>9484</th>\n",
       "      <td>French</td>\n",
       "      <td>Excellent</td>\n",
       "      <td>3210</td>\n",
       "      <td>4</td>\n",
       "      <td>4.9</td>\n",
       "      <td>85</td>\n",
       "    </tr>\n",
       "    <tr>\n",
       "      <th>9485</th>\n",
       "      <td>Cafe</td>\n",
       "      <td>Very Good</td>\n",
       "      <td>200</td>\n",
       "      <td>3</td>\n",
       "      <td>4.3</td>\n",
       "      <td>618</td>\n",
       "    </tr>\n",
       "    <tr>\n",
       "      <th>9489</th>\n",
       "      <td>Mexican</td>\n",
       "      <td>Very Good</td>\n",
       "      <td>250</td>\n",
       "      <td>3</td>\n",
       "      <td>4.2</td>\n",
       "      <td>581</td>\n",
       "    </tr>\n",
       "    <tr>\n",
       "      <th>9490</th>\n",
       "      <td>Italian</td>\n",
       "      <td>Very Good</td>\n",
       "      <td>400</td>\n",
       "      <td>4</td>\n",
       "      <td>4.1</td>\n",
       "      <td>251</td>\n",
       "    </tr>\n",
       "    <tr>\n",
       "      <th>9493</th>\n",
       "      <td>Mexican</td>\n",
       "      <td>Very Good</td>\n",
       "      <td>330</td>\n",
       "      <td>4</td>\n",
       "      <td>4.3</td>\n",
       "      <td>488</td>\n",
       "    </tr>\n",
       "    <tr>\n",
       "      <th>9494</th>\n",
       "      <td>Steak</td>\n",
       "      <td>Very Good</td>\n",
       "      <td>300</td>\n",
       "      <td>4</td>\n",
       "      <td>4.4</td>\n",
       "      <td>90</td>\n",
       "    </tr>\n",
       "    <tr>\n",
       "      <th>9495</th>\n",
       "      <td>Mediterranean</td>\n",
       "      <td>Very Good</td>\n",
       "      <td>450</td>\n",
       "      <td>4</td>\n",
       "      <td>4.4</td>\n",
       "      <td>743</td>\n",
       "    </tr>\n",
       "    <tr>\n",
       "      <th>9497</th>\n",
       "      <td>Chinese</td>\n",
       "      <td>Average</td>\n",
       "      <td>2000</td>\n",
       "      <td>3</td>\n",
       "      <td>3.4</td>\n",
       "      <td>118</td>\n",
       "    </tr>\n",
       "    <tr>\n",
       "      <th>9514</th>\n",
       "      <td>Seafood</td>\n",
       "      <td>Excellent</td>\n",
       "      <td>4000</td>\n",
       "      <td>4</td>\n",
       "      <td>4.9</td>\n",
       "      <td>203</td>\n",
       "    </tr>\n",
       "    <tr>\n",
       "      <th>9517</th>\n",
       "      <td>Cafe</td>\n",
       "      <td>Very Good</td>\n",
       "      <td>70</td>\n",
       "      <td>3</td>\n",
       "      <td>4.2</td>\n",
       "      <td>134</td>\n",
       "    </tr>\n",
       "    <tr>\n",
       "      <th>9518</th>\n",
       "      <td>Kebab</td>\n",
       "      <td>Excellent</td>\n",
       "      <td>70</td>\n",
       "      <td>3</td>\n",
       "      <td>4.6</td>\n",
       "      <td>124</td>\n",
       "    </tr>\n",
       "    <tr>\n",
       "      <th>9522</th>\n",
       "      <td>Kebab</td>\n",
       "      <td>Excellent</td>\n",
       "      <td>100</td>\n",
       "      <td>3</td>\n",
       "      <td>4.5</td>\n",
       "      <td>231</td>\n",
       "    </tr>\n",
       "    <tr>\n",
       "      <th>9526</th>\n",
       "      <td>Steak</td>\n",
       "      <td>Very Good</td>\n",
       "      <td>400</td>\n",
       "      <td>4</td>\n",
       "      <td>4.1</td>\n",
       "      <td>97</td>\n",
       "    </tr>\n",
       "    <tr>\n",
       "      <th>9528</th>\n",
       "      <td>Cafe</td>\n",
       "      <td>Very Good</td>\n",
       "      <td>70</td>\n",
       "      <td>3</td>\n",
       "      <td>4.2</td>\n",
       "      <td>79</td>\n",
       "    </tr>\n",
       "    <tr>\n",
       "      <th>9531</th>\n",
       "      <td>Cafe</td>\n",
       "      <td>Good</td>\n",
       "      <td>80</td>\n",
       "      <td>3</td>\n",
       "      <td>3.8</td>\n",
       "      <td>123</td>\n",
       "    </tr>\n",
       "    <tr>\n",
       "      <th>9536</th>\n",
       "      <td>Pizza</td>\n",
       "      <td>Excellent</td>\n",
       "      <td>40</td>\n",
       "      <td>2</td>\n",
       "      <td>4.7</td>\n",
       "      <td>104</td>\n",
       "    </tr>\n",
       "    <tr>\n",
       "      <th>9537</th>\n",
       "      <td>Desserts</td>\n",
       "      <td>Excellent</td>\n",
       "      <td>50</td>\n",
       "      <td>2</td>\n",
       "      <td>4.7</td>\n",
       "      <td>1311</td>\n",
       "    </tr>\n",
       "    <tr>\n",
       "      <th>9538</th>\n",
       "      <td>Cafe</td>\n",
       "      <td>Excellent</td>\n",
       "      <td>30</td>\n",
       "      <td>2</td>\n",
       "      <td>4.9</td>\n",
       "      <td>1042</td>\n",
       "    </tr>\n",
       "    <tr>\n",
       "      <th>9543</th>\n",
       "      <td>Cafe</td>\n",
       "      <td>Excellent</td>\n",
       "      <td>35</td>\n",
       "      <td>2</td>\n",
       "      <td>4.5</td>\n",
       "      <td>761</td>\n",
       "    </tr>\n",
       "    <tr>\n",
       "      <th>9546</th>\n",
       "      <td>Turkish</td>\n",
       "      <td>Very Good</td>\n",
       "      <td>80</td>\n",
       "      <td>3</td>\n",
       "      <td>4.1</td>\n",
       "      <td>788</td>\n",
       "    </tr>\n",
       "    <tr>\n",
       "      <th>9550</th>\n",
       "      <td>Cafe</td>\n",
       "      <td>Very Good</td>\n",
       "      <td>55</td>\n",
       "      <td>2</td>\n",
       "      <td>4.0</td>\n",
       "      <td>591</td>\n",
       "    </tr>\n",
       "  </tbody>\n",
       "</table>\n",
       "<p>1679 rows × 6 columns</p>\n",
       "</div>"
      ],
      "text/plain": [
       "            cozinha taxa_votos  media_preco  alcance_preco  classifi_agregada  \\\n",
       "1          Japanese  Excellent         1200              3                4.5   \n",
       "5           Chinese  Very Good         1000              3                4.4   \n",
       "9          Filipino  Excellent         1100              3                4.8   \n",
       "13         Filipino  Very Good         1000              3                4.2   \n",
       "14           Korean  Very Good          700              3                4.3   \n",
       "17         Filipino  Excellent         1200              3                4.5   \n",
       "23             Cafe       Good           30              1                3.8   \n",
       "24           Bakery       Good           45              2                3.7   \n",
       "25        Brazilian       Good           60              3                3.8   \n",
       "26            Pizza    Average           50              2                3.2   \n",
       "27         Japanese    Average           80              3                3.1   \n",
       "28          Arabian       Good           90              3                3.7   \n",
       "29         Japanese       Good          200              4                3.7   \n",
       "31          Italian  Very Good          150              4                4.1   \n",
       "32            Pizza    Average          100              4                3.1   \n",
       "35    International  Very Good          230              4                4.2   \n",
       "38          Seafood    Average          240              4                3.2   \n",
       "39    International  Excellent          230              4                4.9   \n",
       "40          Italian    Average          350              4                3.3   \n",
       "46         Lebanese  Very Good          170              4                4.2   \n",
       "47           Burger  Excellent           60              3                4.8   \n",
       "51        Brazilian  Excellent          170              4                4.6   \n",
       "52        Brazilian  Very Good           90              3                4.3   \n",
       "53          Italian  Very Good          150              4                4.0   \n",
       "54         Japanese  Excellent          250              4                4.6   \n",
       "56        Brazilian  Very Good           40              2                4.2   \n",
       "59        Brazilian  Excellent          300              4                4.7   \n",
       "64           Indian    Average           70              3                3.1   \n",
       "65        Brazilian  Very Good          100              4                4.1   \n",
       "69        Brazilian  Not rated           55              2                0.0   \n",
       "...             ...        ...          ...            ...                ...   \n",
       "9441           Cafe  Very Good          150              2                4.4   \n",
       "9444  Mediterranean  Excellent          350              4                4.5   \n",
       "9446          Sushi       Good          250              3                3.8   \n",
       "9458          Tapas  Excellent          700              4                4.9   \n",
       "9463       American  Very Good          515              4                4.2   \n",
       "9465        African  Excellent          450              4                4.7   \n",
       "9467         Indian  Very Good          320              4                4.4   \n",
       "9470        Mexican  Very Good          300              4                4.3   \n",
       "9474    Continental  Very Good          600              4                4.4   \n",
       "9484         French  Excellent         3210              4                4.9   \n",
       "9485           Cafe  Very Good          200              3                4.3   \n",
       "9489        Mexican  Very Good          250              3                4.2   \n",
       "9490        Italian  Very Good          400              4                4.1   \n",
       "9493        Mexican  Very Good          330              4                4.3   \n",
       "9494          Steak  Very Good          300              4                4.4   \n",
       "9495  Mediterranean  Very Good          450              4                4.4   \n",
       "9497        Chinese    Average         2000              3                3.4   \n",
       "9514        Seafood  Excellent         4000              4                4.9   \n",
       "9517           Cafe  Very Good           70              3                4.2   \n",
       "9518          Kebab  Excellent           70              3                4.6   \n",
       "9522          Kebab  Excellent          100              3                4.5   \n",
       "9526          Steak  Very Good          400              4                4.1   \n",
       "9528           Cafe  Very Good           70              3                4.2   \n",
       "9531           Cafe       Good           80              3                3.8   \n",
       "9536          Pizza  Excellent           40              2                4.7   \n",
       "9537       Desserts  Excellent           50              2                4.7   \n",
       "9538           Cafe  Excellent           30              2                4.9   \n",
       "9543           Cafe  Excellent           35              2                4.5   \n",
       "9546        Turkish  Very Good           80              3                4.1   \n",
       "9550           Cafe  Very Good           55              2                4.0   \n",
       "\n",
       "      votos  \n",
       "1       591  \n",
       "5       336  \n",
       "9       532  \n",
       "13      458  \n",
       "14      223  \n",
       "17      211  \n",
       "23        9  \n",
       "24       11  \n",
       "25       11  \n",
       "26       11  \n",
       "27       10  \n",
       "28        8  \n",
       "29        5  \n",
       "31       12  \n",
       "32        9  \n",
       "35       17  \n",
       "38        6  \n",
       "39       30  \n",
       "40        8  \n",
       "46       11  \n",
       "47       19  \n",
       "51       21  \n",
       "52       14  \n",
       "53        5  \n",
       "54       25  \n",
       "56        7  \n",
       "59       44  \n",
       "64        5  \n",
       "65       15  \n",
       "69        0  \n",
       "...     ...  \n",
       "9441    514  \n",
       "9444    356  \n",
       "9446    127  \n",
       "9458    194  \n",
       "9463    212  \n",
       "9465    373  \n",
       "9467    147  \n",
       "9470    116  \n",
       "9474     84  \n",
       "9484     85  \n",
       "9485    618  \n",
       "9489    581  \n",
       "9490    251  \n",
       "9493    488  \n",
       "9494     90  \n",
       "9495    743  \n",
       "9497    118  \n",
       "9514    203  \n",
       "9517    134  \n",
       "9518    124  \n",
       "9522    231  \n",
       "9526     97  \n",
       "9528     79  \n",
       "9531    123  \n",
       "9536    104  \n",
       "9537   1311  \n",
       "9538   1042  \n",
       "9543    761  \n",
       "9546    788  \n",
       "9550    591  \n",
       "\n",
       "[1679 rows x 6 columns]"
      ]
     },
     "execution_count": 15,
     "metadata": {},
     "output_type": "execute_result"
    }
   ],
   "source": [
    "dfColunasParaDicionarizar.fillna(\"Brazilian\")"
   ]
  },
  {
   "cell_type": "code",
   "execution_count": 9,
   "metadata": {},
   "outputs": [],
   "source": [
    "taxa_votos = dfColunasParaDicionarizar['taxa_votos']\n",
    "#print(dfColunasParaDicionarizar['cozinha'])"
   ]
  },
  {
   "cell_type": "code",
   "execution_count": 11,
   "metadata": {},
   "outputs": [
    {
     "name": "stdout",
     "output_type": "stream",
     "text": [
      "1       Excellent\n",
      "5       Very Good\n",
      "9       Excellent\n",
      "13      Very Good\n",
      "14      Very Good\n",
      "17      Excellent\n",
      "23           Good\n",
      "24           Good\n",
      "25           Good\n",
      "26        Average\n",
      "27        Average\n",
      "28           Good\n",
      "29           Good\n",
      "31      Very Good\n",
      "32        Average\n",
      "35      Very Good\n",
      "38        Average\n",
      "39      Excellent\n",
      "40        Average\n",
      "46      Very Good\n",
      "47      Excellent\n",
      "51      Excellent\n",
      "52      Very Good\n",
      "53      Very Good\n",
      "54      Excellent\n",
      "56      Very Good\n",
      "59      Excellent\n",
      "64        Average\n",
      "65      Very Good\n",
      "69      Not rated\n",
      "          ...    \n",
      "9441    Very Good\n",
      "9444    Excellent\n",
      "9446         Good\n",
      "9458    Excellent\n",
      "9463    Very Good\n",
      "9465    Excellent\n",
      "9467    Very Good\n",
      "9470    Very Good\n",
      "9474    Very Good\n",
      "9484    Excellent\n",
      "9485    Very Good\n",
      "9489    Very Good\n",
      "9490    Very Good\n",
      "9493    Very Good\n",
      "9494    Very Good\n",
      "9495    Very Good\n",
      "9497      Average\n",
      "9514    Excellent\n",
      "9517    Very Good\n",
      "9518    Excellent\n",
      "9522    Excellent\n",
      "9526    Very Good\n",
      "9528    Very Good\n",
      "9531         Good\n",
      "9536    Excellent\n",
      "9537    Excellent\n",
      "9538    Excellent\n",
      "9543    Excellent\n",
      "9546    Very Good\n",
      "9550    Very Good\n",
      "Name: taxa_votos, Length: 1679, dtype: object\n"
     ]
    }
   ],
   "source": [
    "taxa_votos = taxa_votos.astype('str')\n",
    "print(taxa_votos)"
   ]
  },
  {
   "cell_type": "code",
   "execution_count": 12,
   "metadata": {},
   "outputs": [
    {
     "data": {
      "text/plain": [
       "0"
      ]
     },
     "execution_count": 12,
     "metadata": {},
     "output_type": "execute_result"
    }
   ],
   "source": [
    "taxa_votos.isnull().sum()"
   ]
  },
  {
   "cell_type": "code",
   "execution_count": 1,
   "metadata": {},
   "outputs": [
    {
     "ename": "NameError",
     "evalue": "name 'dfColunasParaDicionarizar' is not defined",
     "output_type": "error",
     "traceback": [
      "\u001b[1;31m---------------------------------------------------------------------------\u001b[0m",
      "\u001b[1;31mNameError\u001b[0m                                 Traceback (most recent call last)",
      "\u001b[1;32m<ipython-input-1-dc601b72b8ed>\u001b[0m in \u001b[0;36m<module>\u001b[1;34m\u001b[0m\n\u001b[1;32m----> 1\u001b[1;33m \u001b[0mColunaTaxaVotos\u001b[0m \u001b[1;33m=\u001b[0m \u001b[0mdfColunasParaDicionarizar\u001b[0m\u001b[1;33m[\u001b[0m\u001b[1;34m'taxa_votos'\u001b[0m\u001b[1;33m]\u001b[0m\u001b[1;33m\u001b[0m\u001b[1;33m\u001b[0m\u001b[0m\n\u001b[0m",
      "\u001b[1;31mNameError\u001b[0m: name 'dfColunasParaDicionarizar' is not defined"
     ]
    }
   ],
   "source": [
    "ColunaTaxaVotos = dfColunasParaDicionarizar['taxa_votos']"
   ]
  },
  {
   "cell_type": "code",
   "execution_count": 29,
   "metadata": {},
   "outputs": [],
   "source": [
    "ColunaTaxaVotos = ColunaTaxaVotos.astype('str')"
   ]
  },
  {
   "cell_type": "code",
   "execution_count": 31,
   "metadata": {},
   "outputs": [
    {
     "name": "stdout",
     "output_type": "stream",
     "text": [
      "taxa_votos    0\n",
      "taxa_votos    0\n",
      "dtype: int64\n"
     ]
    }
   ],
   "source": [
    "X = taxa_votos\n",
    "X = pd.concat([X, X], axis=1)\n",
    "print(X.isnull().sum())"
   ]
  },
  {
   "cell_type": "code",
   "execution_count": 34,
   "metadata": {},
   "outputs": [
    {
     "name": "stdout",
     "output_type": "stream",
     "text": [
      "(1679, 2)\n"
     ]
    }
   ],
   "source": [
    "print(X.shape)"
   ]
  },
  {
   "cell_type": "code",
   "execution_count": 32,
   "metadata": {},
   "outputs": [
    {
     "name": "stderr",
     "output_type": "stream",
     "text": [
      "C:\\Anaconda3\\lib\\site-packages\\sklearn\\preprocessing\\_encoders.py:371: FutureWarning: The handling of integer data will change in version 0.22. Currently, the categories are determined based on the range [0, max(values)], while in the future they will be determined based on the unique values.\n",
      "If you want the future behaviour and silence this warning, you can specify \"categories='auto'\".\n",
      "In case you used a LabelEncoder before this OneHotEncoder to convert the categories to integers, then you can now use the OneHotEncoder directly.\n",
      "  warnings.warn(msg, FutureWarning)\n",
      "C:\\Anaconda3\\lib\\site-packages\\sklearn\\preprocessing\\_encoders.py:371: FutureWarning: The handling of integer data will change in version 0.22. Currently, the categories are determined based on the range [0, max(values)], while in the future they will be determined based on the unique values.\n",
      "If you want the future behaviour and silence this warning, you can specify \"categories='auto'\".\n",
      "In case you used a LabelEncoder before this OneHotEncoder to convert the categories to integers, then you can now use the OneHotEncoder directly.\n",
      "  warnings.warn(msg, FutureWarning)\n"
     ]
    }
   ],
   "source": [
    "labelencoder_dict = {}\n",
    "onehotencoder_dict = {}\n",
    "\n",
    "X_train = None\n",
    "for i in range(0, X.shape[1]):\n",
    "    label_encoder = preprocessing.LabelEncoder()\n",
    "    labelencoder_dict[i] = label_encoder\n",
    "    feature = label_encoder.fit_transform(X.iloc[:,i])\n",
    "    #X_train.iloc[:,:]\n",
    "    feature = feature.reshape(X.shape[0], 1)\n",
    "    onehot_encoder = OneHotEncoder(sparse=False)\n",
    "    feature = onehot_encoder.fit_transform(feature)\n",
    "    onehotencoder_dict[i] = onehot_encoder\n",
    "    if X_train is None:\n",
    "          X_train = feature\n",
    "    else:\n",
    "          X_train = np.concatenate((X_train, feature), axis=1)"
   ]
  },
  {
   "cell_type": "markdown",
   "metadata": {},
   "source": [
    "# Salvando dicionário"
   ]
  },
  {
   "cell_type": "code",
   "execution_count": 33,
   "metadata": {},
   "outputs": [],
   "source": [
    "pickle.dump(labelencoder_dict, open('labelencoder_dict_para_cozinha.sav', 'wb'))"
   ]
  },
  {
   "cell_type": "code",
   "execution_count": 34,
   "metadata": {},
   "outputs": [],
   "source": [
    "pickle.dump(onehotencoder_dict, open('onehotencoder_dict_para_cozinha.sav', 'wb'))"
   ]
  },
  {
   "cell_type": "markdown",
   "metadata": {},
   "source": [
    "# Lendo arquivo de dicionário"
   ]
  },
  {
   "cell_type": "code",
   "execution_count": 38,
   "metadata": {},
   "outputs": [],
   "source": [
    "labelencoder_dictArquivo = open('labelencoder_dict.sav', 'rb')"
   ]
  },
  {
   "cell_type": "code",
   "execution_count": 39,
   "metadata": {},
   "outputs": [],
   "source": [
    "labelencoder_dictArquivo = open('onehotencoder_dict.sav', 'rb')"
   ]
  },
  {
   "cell_type": "code",
   "execution_count": 35,
   "metadata": {},
   "outputs": [],
   "source": [
    "def getEncoded(test_data,labelencoder_dict,onehotencoder_dict):\n",
    "    test_encoded_x = None\n",
    "    for i in range(0,test_data.shape[1]):\n",
    "        label_encoder =  labelencoder_dict[i]\n",
    "        feature = label_encoder.transform(test_data.iloc[:,i])\n",
    "        feature = feature.reshape(test_data.shape[0], 1)\n",
    "        onehot_encoder = onehotencoder_dict[i]\n",
    "        feature = onehot_encoder.transform(feature)\n",
    "        if test_encoded_x is None:\n",
    "              test_encoded_x = feature\n",
    "        else:\n",
    "              test_encoded_x = np.concatenate((test_encoded_x, feature), axis=1)\n",
    "    return test_encoded_x"
   ]
  },
  {
   "cell_type": "code",
   "execution_count": 36,
   "metadata": {},
   "outputs": [],
   "source": [
    "from sklearn.preprocessing import OneHotEncoder\n",
    "enc = OneHotEncoder(handle_unknown='ignore')\n",
    "#X = df['cozinha']"
   ]
  },
  {
   "cell_type": "code",
   "execution_count": 38,
   "metadata": {},
   "outputs": [],
   "source": [
    "dfProcessado = df[~df[\"cozinha\"].str.contains(\" \", na=False)]"
   ]
  },
  {
   "cell_type": "code",
   "execution_count": 41,
   "metadata": {},
   "outputs": [
    {
     "data": {
      "text/html": [
       "<div>\n",
       "<style scoped>\n",
       "    .dataframe tbody tr th:only-of-type {\n",
       "        vertical-align: middle;\n",
       "    }\n",
       "\n",
       "    .dataframe tbody tr th {\n",
       "        vertical-align: top;\n",
       "    }\n",
       "\n",
       "    .dataframe thead th {\n",
       "        text-align: right;\n",
       "    }\n",
       "</style>\n",
       "<table border=\"1\" class=\"dataframe\">\n",
       "  <thead>\n",
       "    <tr style=\"text-align: right;\">\n",
       "      <th></th>\n",
       "      <th>cozinha</th>\n",
       "      <th>taxa_votos</th>\n",
       "      <th>media_preco</th>\n",
       "      <th>alcance_preco</th>\n",
       "      <th>classifi_agregada</th>\n",
       "      <th>votos</th>\n",
       "    </tr>\n",
       "  </thead>\n",
       "  <tbody>\n",
       "    <tr>\n",
       "      <th>1</th>\n",
       "      <td>Japanese</td>\n",
       "      <td>Excellent</td>\n",
       "      <td>1200</td>\n",
       "      <td>3</td>\n",
       "      <td>4.5</td>\n",
       "      <td>591</td>\n",
       "    </tr>\n",
       "    <tr>\n",
       "      <th>5</th>\n",
       "      <td>Chinese</td>\n",
       "      <td>Very Good</td>\n",
       "      <td>1000</td>\n",
       "      <td>3</td>\n",
       "      <td>4.4</td>\n",
       "      <td>336</td>\n",
       "    </tr>\n",
       "  </tbody>\n",
       "</table>\n",
       "</div>"
      ],
      "text/plain": [
       "    cozinha taxa_votos  media_preco  alcance_preco  classifi_agregada  votos\n",
       "1  Japanese  Excellent         1200              3                4.5    591\n",
       "5   Chinese  Very Good         1000              3                4.4    336"
      ]
     },
     "execution_count": 41,
     "metadata": {},
     "output_type": "execute_result"
    }
   ],
   "source": [
    "dfColunasParaDicionarizar.head(2)"
   ]
  },
  {
   "cell_type": "code",
   "execution_count": 42,
   "metadata": {},
   "outputs": [
    {
     "data": {
      "text/html": [
       "<div>\n",
       "<style scoped>\n",
       "    .dataframe tbody tr th:only-of-type {\n",
       "        vertical-align: middle;\n",
       "    }\n",
       "\n",
       "    .dataframe tbody tr th {\n",
       "        vertical-align: top;\n",
       "    }\n",
       "\n",
       "    .dataframe thead th {\n",
       "        text-align: right;\n",
       "    }\n",
       "</style>\n",
       "<table border=\"1\" class=\"dataframe\">\n",
       "  <thead>\n",
       "    <tr style=\"text-align: right;\">\n",
       "      <th></th>\n",
       "      <th>cozinha</th>\n",
       "      <th>taxa_votos</th>\n",
       "      <th>media_preco</th>\n",
       "      <th>alcance_preco</th>\n",
       "      <th>classifi_agregada</th>\n",
       "      <th>votos</th>\n",
       "    </tr>\n",
       "  </thead>\n",
       "  <tbody>\n",
       "    <tr>\n",
       "      <th>1</th>\n",
       "      <td>Japanese</td>\n",
       "      <td>Excellent</td>\n",
       "      <td>1200</td>\n",
       "      <td>3</td>\n",
       "      <td>4.5</td>\n",
       "      <td>591</td>\n",
       "    </tr>\n",
       "    <tr>\n",
       "      <th>5</th>\n",
       "      <td>Chinese</td>\n",
       "      <td>Very Good</td>\n",
       "      <td>1000</td>\n",
       "      <td>3</td>\n",
       "      <td>4.4</td>\n",
       "      <td>336</td>\n",
       "    </tr>\n",
       "  </tbody>\n",
       "</table>\n",
       "</div>"
      ],
      "text/plain": [
       "    cozinha taxa_votos  media_preco  alcance_preco  classifi_agregada  votos\n",
       "1  Japanese  Excellent         1200              3                4.5    591\n",
       "5   Chinese  Very Good         1000              3                4.4    336"
      ]
     },
     "execution_count": 42,
     "metadata": {},
     "output_type": "execute_result"
    }
   ],
   "source": [
    "dfProcessado.head(2)"
   ]
  },
  {
   "cell_type": "code",
   "execution_count": 43,
   "metadata": {},
   "outputs": [
    {
     "name": "stdout",
     "output_type": "stream",
     "text": [
      "(1679, 12)\n"
     ]
    }
   ],
   "source": [
    "x_treinamentoParte1 = X_train\n",
    "print(x_treinamentoParte1.shape)"
   ]
  },
  {
   "cell_type": "code",
   "execution_count": 44,
   "metadata": {},
   "outputs": [],
   "source": [
    "treinamentoParte2 = pd.DataFrame((dfColunasParaDicionarizar[['media_preco','alcance_preco', 'classifi_agregada', 'votos']]))"
   ]
  },
  {
   "cell_type": "code",
   "execution_count": 45,
   "metadata": {},
   "outputs": [
    {
     "data": {
      "text/html": [
       "<div>\n",
       "<style scoped>\n",
       "    .dataframe tbody tr th:only-of-type {\n",
       "        vertical-align: middle;\n",
       "    }\n",
       "\n",
       "    .dataframe tbody tr th {\n",
       "        vertical-align: top;\n",
       "    }\n",
       "\n",
       "    .dataframe thead th {\n",
       "        text-align: right;\n",
       "    }\n",
       "</style>\n",
       "<table border=\"1\" class=\"dataframe\">\n",
       "  <thead>\n",
       "    <tr style=\"text-align: right;\">\n",
       "      <th></th>\n",
       "      <th>media_preco</th>\n",
       "      <th>alcance_preco</th>\n",
       "      <th>classifi_agregada</th>\n",
       "      <th>votos</th>\n",
       "    </tr>\n",
       "  </thead>\n",
       "  <tbody>\n",
       "    <tr>\n",
       "      <th>1</th>\n",
       "      <td>1200</td>\n",
       "      <td>3</td>\n",
       "      <td>4.5</td>\n",
       "      <td>591</td>\n",
       "    </tr>\n",
       "    <tr>\n",
       "      <th>5</th>\n",
       "      <td>1000</td>\n",
       "      <td>3</td>\n",
       "      <td>4.4</td>\n",
       "      <td>336</td>\n",
       "    </tr>\n",
       "    <tr>\n",
       "      <th>9</th>\n",
       "      <td>1100</td>\n",
       "      <td>3</td>\n",
       "      <td>4.8</td>\n",
       "      <td>532</td>\n",
       "    </tr>\n",
       "    <tr>\n",
       "      <th>13</th>\n",
       "      <td>1000</td>\n",
       "      <td>3</td>\n",
       "      <td>4.2</td>\n",
       "      <td>458</td>\n",
       "    </tr>\n",
       "  </tbody>\n",
       "</table>\n",
       "</div>"
      ],
      "text/plain": [
       "    media_preco  alcance_preco  classifi_agregada  votos\n",
       "1          1200              3                4.5    591\n",
       "5          1000              3                4.4    336\n",
       "9          1100              3                4.8    532\n",
       "13         1000              3                4.2    458"
      ]
     },
     "execution_count": 45,
     "metadata": {},
     "output_type": "execute_result"
    }
   ],
   "source": [
    "treinamentoParte2.head(4)"
   ]
  },
  {
   "cell_type": "code",
   "execution_count": 46,
   "metadata": {},
   "outputs": [
    {
     "name": "stdout",
     "output_type": "stream",
     "text": [
      "(1679, 12)\n",
      "(1679, 4)\n"
     ]
    }
   ],
   "source": [
    "x_treinamentoParte2 = np.array(treinamentoParte2)\n",
    "print(x_treinamentoParte1.shape)\n",
    "print(x_treinamentoParte2.shape)"
   ]
  },
  {
   "cell_type": "code",
   "execution_count": 47,
   "metadata": {},
   "outputs": [],
   "source": [
    "X_TRAIN = np.concatenate((x_treinamentoParte1, x_treinamentoParte2), axis=1)"
   ]
  },
  {
   "cell_type": "code",
   "execution_count": 48,
   "metadata": {},
   "outputs": [
    {
     "data": {
      "text/plain": [
       "numpy.ndarray"
      ]
     },
     "execution_count": 48,
     "metadata": {},
     "output_type": "execute_result"
    }
   ],
   "source": [
    "type(X_TRAIN)"
   ]
  },
  {
   "cell_type": "code",
   "execution_count": 50,
   "metadata": {},
   "outputs": [
    {
     "data": {
      "text/plain": [
       "cozinha              0\n",
       "taxa_votos           0\n",
       "media_preco          0\n",
       "alcance_preco        0\n",
       "classifi_agregada    0\n",
       "votos                0\n",
       "dtype: int64"
      ]
     },
     "execution_count": 50,
     "metadata": {},
     "output_type": "execute_result"
    }
   ],
   "source": [
    "dfColunasParaDicionarizar.isnull().sum()"
   ]
  },
  {
   "cell_type": "code",
   "execution_count": 15,
   "metadata": {},
   "outputs": [
    {
     "name": "stdout",
     "output_type": "stream",
     "text": [
      "<class 'pandas.core.series.Series'>\n",
      "1     Japanese\n",
      "5      Chinese\n",
      "9     Filipino\n",
      "13    Filipino\n",
      "Name: cozinha, dtype: category\n",
      "Categories (72, object): [Afghani, African, American, Andhra, ..., Thai, Tibetan, Turkish, Vietnamese]\n"
     ]
    }
   ],
   "source": [
    "Y_TRAIN = np.array(dfColunasParaDicionarizar['cozinha'])\n",
    "\n",
    "#pd.DataFrame((zomato[['cozinha', 'taxa_votos', 'media_preco', 'alcance_preco', 'classifi_agregada', 'votos']]))\n",
    "#ly = pd.Dataframe((dfColunasParaDicionarizar['cozinha']))\n",
    "# = dfColunasParaDicionarizar['cozinha']\n",
    "s = pd.Series(dfColunasParaDicionarizar['cozinha'], dtype=\"category\")\n",
    "print(type(s))\n",
    "print(s.head(4))"
   ]
  },
  {
   "cell_type": "code",
   "execution_count": 54,
   "metadata": {},
   "outputs": [
    {
     "name": "stdout",
     "output_type": "stream",
     "text": [
      "<class 'list'>\n"
     ]
    }
   ],
   "source": [
    "listacozinha = dfColunasParaDicionarizar[\"cozinha\"].tolist() \n",
    "print(type(listacozinha))"
   ]
  },
  {
   "cell_type": "code",
   "execution_count": 55,
   "metadata": {},
   "outputs": [],
   "source": [
    "cozinhasCSV = pd.DataFrame({'cozinhas': listacozinha})"
   ]
  },
  {
   "cell_type": "code",
   "execution_count": 58,
   "metadata": {},
   "outputs": [
    {
     "name": "stdout",
     "output_type": "stream",
     "text": [
      "<class 'pandas.core.frame.DataFrame'>\n"
     ]
    }
   ],
   "source": [
    "print(type(cozinhasCSV))"
   ]
  },
  {
   "cell_type": "code",
   "execution_count": 60,
   "metadata": {},
   "outputs": [],
   "source": [
    "cozinhasCSV.to_csv('cozinhas.csv', sep=';', encoding='utf-8', index=False)"
   ]
  },
  {
   "cell_type": "code",
   "execution_count": 16,
   "metadata": {},
   "outputs": [
    {
     "name": "stdout",
     "output_type": "stream",
     "text": [
      "<class 'list'>\n"
     ]
    }
   ],
   "source": [
    "li = list(range(1, 72))\n",
    "print(type(li))\n",
    "y_train = s.cat.rename_categories(np.arange(72))"
   ]
  },
  {
   "cell_type": "code",
   "execution_count": 62,
   "metadata": {},
   "outputs": [
    {
     "name": "stdout",
     "output_type": "stream",
     "text": [
      "<class 'pandas.core.series.Series'>\n"
     ]
    }
   ],
   "source": [
    "print(type(y_train))"
   ]
  },
  {
   "cell_type": "code",
   "execution_count": 72,
   "metadata": {},
   "outputs": [
    {
     "name": "stdout",
     "output_type": "stream",
     "text": [
      "['Japanese' 'Chinese' 'Filipino' ... 'Cafe' 'Turkish' 'Cafe']\n"
     ]
    }
   ],
   "source": [
    "print(Y_TRAIN)"
   ]
  },
  {
   "cell_type": "code",
   "execution_count": 63,
   "metadata": {},
   "outputs": [],
   "source": [
    "import xgboost as xgb\n",
    "from sklearn import model_selection"
   ]
  },
  {
   "cell_type": "code",
   "execution_count": 64,
   "metadata": {},
   "outputs": [],
   "source": [
    "xg_boost = xgb.XGBClassifier()"
   ]
  },
  {
   "cell_type": "code",
   "execution_count": 17,
   "metadata": {},
   "outputs": [
    {
     "name": "stdout",
     "output_type": "stream",
     "text": [
      "1       40\n",
      "5       22\n",
      "9       27\n",
      "13      27\n",
      "14      45\n",
      "17      27\n",
      "23      19\n",
      "24      10\n",
      "25      15\n",
      "26      59\n",
      "27      40\n",
      "28       4\n",
      "29      40\n",
      "31      39\n",
      "32      59\n",
      "35      37\n",
      "38      62\n",
      "39      37\n",
      "40      39\n",
      "46      46\n",
      "47      18\n",
      "51      15\n",
      "52      15\n",
      "53      39\n",
      "54      40\n",
      "56      15\n",
      "59      15\n",
      "64      35\n",
      "65      15\n",
      "69      15\n",
      "        ..\n",
      "9441    19\n",
      "9444    50\n",
      "9446    65\n",
      "9458    66\n",
      "9463     2\n",
      "9465     1\n",
      "9467    35\n",
      "9470    51\n",
      "9474    24\n",
      "9484    28\n",
      "9485    19\n",
      "9489    51\n",
      "9490    39\n",
      "9493    51\n",
      "9494    64\n",
      "9495    50\n",
      "9497    22\n",
      "9514    62\n",
      "9517    19\n",
      "9518    43\n",
      "9522    43\n",
      "9526    64\n",
      "9528    19\n",
      "9531    19\n",
      "9536    59\n",
      "9537    25\n",
      "9538    19\n",
      "9543    19\n",
      "9546    70\n",
      "9550    19\n",
      "Name: cozinha, Length: 1679, dtype: category\n",
      "Categories (72, int64): [0, 1, 2, 3, ..., 68, 69, 70, 71]\n"
     ]
    }
   ],
   "source": [
    "print(y_train)"
   ]
  },
  {
   "cell_type": "code",
   "execution_count": 115,
   "metadata": {},
   "outputs": [
    {
     "name": "stderr",
     "output_type": "stream",
     "text": [
      "C:\\Anaconda3\\lib\\site-packages\\ipykernel_launcher.py:1: FutureWarning: The signature of `Series.to_csv` was aligned to that of `DataFrame.to_csv`, and argument 'header' will change its default value from False to True: please pass an explicit value to suppress this warning.\n",
      "  \"\"\"Entry point for launching an IPython kernel.\n"
     ]
    }
   ],
   "source": [
    "y_train.to_csv('cozinhabinario.csv', index=False)"
   ]
  },
  {
   "cell_type": "code",
   "execution_count": 138,
   "metadata": {},
   "outputs": [],
   "source": [
    "Y_TRAIN.shape\n",
    "y_trainProFit = np.array(y_train)\n",
    "\n",
    "media =y_train.fillna(1)\n",
    "#df['Item_Weight'] = df['Item_Weight'].fillna((df['Item_Weight'].mean()))\n",
    "#y_train.fillna(y_train.mean())"
   ]
  },
  {
   "cell_type": "code",
   "execution_count": 19,
   "metadata": {},
   "outputs": [
    {
     "name": "stdout",
     "output_type": "stream",
     "text": [
      "1    40\n",
      "5    22\n",
      "9    27\n",
      "Name: cozinha, dtype: category\n",
      "Categories (72, int64): [0, 1, 2, 3, ..., 68, 69, 70, 71]\n",
      "<class 'pandas.core.series.Series'>\n"
     ]
    }
   ],
   "source": [
    "print(y_train.head(3))\n",
    "print(type(y_train))"
   ]
  },
  {
   "cell_type": "code",
   "execution_count": 68,
   "metadata": {},
   "outputs": [
    {
     "data": {
      "text/plain": [
       "XGBClassifier(base_score=0.5, booster='gbtree', colsample_bylevel=1,\n",
       "       colsample_bytree=1, gamma=0, learning_rate=0.1, max_delta_step=0,\n",
       "       max_depth=3, min_child_weight=1, missing=None, n_estimators=100,\n",
       "       n_jobs=1, nthread=None, objective='multi:softprob', random_state=0,\n",
       "       reg_alpha=0, reg_lambda=1, scale_pos_weight=1, seed=None,\n",
       "       silent=True, subsample=1)"
      ]
     },
     "execution_count": 68,
     "metadata": {},
     "output_type": "execute_result"
    }
   ],
   "source": [
    "xg_boost.fit(X_TRAIN, y_train)"
   ]
  },
  {
   "cell_type": "code",
   "execution_count": 70,
   "metadata": {},
   "outputs": [
    {
     "name": "stdout",
     "output_type": "stream",
     "text": [
      "0.5402025014889815\n"
     ]
    }
   ],
   "source": [
    "print(xg_boost.score(X_TRAIN, y_train))\n",
    "\n",
    "#scores = model_selection.cross_val_score(xg_boost, X_TRAIN, Y_TRAIN, cv=5, scoring='accuracy')\n",
    "#print(scores)\n",
    "#print(\"Kfold on XGBClassifier: %0.4f (+/- %0.4f)\" % (scores.mean(), scores.std()))"
   ]
  },
  {
   "cell_type": "code",
   "execution_count": 133,
   "metadata": {},
   "outputs": [],
   "source": [
    "# Realizando uma predição"
   ]
  },
  {
   "cell_type": "code",
   "execution_count": 72,
   "metadata": {},
   "outputs": [],
   "source": [
    "escolha = ['Excellent', 1000, 4, 4, 600]"
   ]
  },
  {
   "cell_type": "code",
   "execution_count": 73,
   "metadata": {},
   "outputs": [],
   "source": [
    "def escolhaParaVetorPredicao(escolhaLista):\n",
    "    colunasCategoricasPredicao = [{'cozinha': escolhaLista[0]}, {'das': escolhaLista[1]}]\n",
    "    colunasCategoricasPredicaoDic = pd.DataFrame(colunasCategoricasPredicao)\n",
    "    return colunasCategoricasPredicaoDic"
   ]
  },
  {
   "cell_type": "code",
   "execution_count": 74,
   "metadata": {},
   "outputs": [
    {
     "name": "stdout",
     "output_type": "stream",
     "text": [
      "          c1         c2\n",
      "0  Excellent  Excellent\n"
     ]
    }
   ],
   "source": [
    "data = {'c1':[escolha[0]], 'c2':[escolha[0]]} \n",
    "  \n",
    "# Create DataFrame \n",
    "datas = pd.DataFrame(data) \n",
    "print(datas)"
   ]
  },
  {
   "cell_type": "code",
   "execution_count": 75,
   "metadata": {},
   "outputs": [],
   "source": [
    "dfescolhaParaVetorPredicao = escolhaParaVetorPredicao(escolha)"
   ]
  },
  {
   "cell_type": "code",
   "execution_count": 76,
   "metadata": {},
   "outputs": [
    {
     "name": "stdout",
     "output_type": "stream",
     "text": [
      "(2, 2)\n"
     ]
    }
   ],
   "source": [
    "print(dfescolhaParaVetorPredicao.shape)"
   ]
  },
  {
   "cell_type": "code",
   "execution_count": 77,
   "metadata": {},
   "outputs": [],
   "source": [
    "dicionarioCategoriasPredicaoParte1 = getEncoded(datas,labelencoder_dict,onehotencoder_dict)"
   ]
  },
  {
   "cell_type": "code",
   "execution_count": 78,
   "metadata": {},
   "outputs": [
    {
     "data": {
      "text/plain": [
       "(1, 12)"
      ]
     },
     "execution_count": 78,
     "metadata": {},
     "output_type": "execute_result"
    }
   ],
   "source": [
    "dicionarioCategoriasPredicaoParte1.shape"
   ]
  },
  {
   "cell_type": "code",
   "execution_count": 79,
   "metadata": {},
   "outputs": [],
   "source": [
    "def concatenaParte1e2Dicionario(dicionarioCategoriasPredicaoParte1, escolha):\n",
    "    PegandoParte2Escolha = np.asarray(escolha[1:])\n",
    "    Parte2Escolha = PegandoParte2Escolha.reshape(1,4)\n",
    "    escolha_para_predicao = np.concatenate((dicionarioCategoriasPredicaoParte1, Parte2Escolha), axis=1)\n",
    "    \n",
    "    return escolha_para_predicao"
   ]
  },
  {
   "cell_type": "code",
   "execution_count": 80,
   "metadata": {},
   "outputs": [],
   "source": [
    "dfConcatenadoPraPredicao = concatenaParte1e2Dicionario(dicionarioCategoriasPredicaoParte1, escolha)"
   ]
  },
  {
   "cell_type": "code",
   "execution_count": 81,
   "metadata": {},
   "outputs": [
    {
     "name": "stdout",
     "output_type": "stream",
     "text": [
      "(1, 16)\n"
     ]
    }
   ],
   "source": [
    "print(dfConcatenadoPraPredicao.shape)"
   ]
  },
  {
   "cell_type": "code",
   "execution_count": 82,
   "metadata": {},
   "outputs": [
    {
     "name": "stdout",
     "output_type": "stream",
     "text": [
      "Média de preço para características buscadas:  [39]\n"
     ]
    }
   ],
   "source": [
    "print(\"Média de preço para características buscadas: \", xg_boost.predict(dfConcatenadoPraPredicao))"
   ]
  },
  {
   "cell_type": "code",
   "execution_count": 99,
   "metadata": {},
   "outputs": [],
   "source": [
    "predicaovalor = xg_boost.predict(dfConcatenadoPraPredicao)"
   ]
  },
  {
   "cell_type": "code",
   "execution_count": 100,
   "metadata": {},
   "outputs": [
    {
     "data": {
      "text/plain": [
       "numpy.ndarray"
      ]
     },
     "execution_count": 100,
     "metadata": {},
     "output_type": "execute_result"
    }
   ],
   "source": [
    "type(predicaovalor)"
   ]
  },
  {
   "cell_type": "code",
   "execution_count": 104,
   "metadata": {},
   "outputs": [
    {
     "data": {
      "text/plain": [
       "cozinha              0\n",
       "taxa_votos           0\n",
       "media_preco          0\n",
       "alcance_preco        0\n",
       "classifi_agregada    0\n",
       "votos                0\n",
       "dtype: int64"
      ]
     },
     "execution_count": 104,
     "metadata": {},
     "output_type": "execute_result"
    }
   ],
   "source": [
    "dfColunasParaDicionarizar.isnull().sum()"
   ]
  },
  {
   "cell_type": "code",
   "execution_count": 108,
   "metadata": {},
   "outputs": [
    {
     "name": "stdout",
     "output_type": "stream",
     "text": [
      "   cozinha taxa_votos  media_preco  alcance_preco  classifi_agregada  votos\n",
      "5  Chinese  Very Good         1000              3                4.4    336\n"
     ]
    }
   ],
   "source": [
    "print(dfColunasParaDicionarizar.loc[[5]])"
   ]
  },
  {
   "cell_type": "code",
   "execution_count": 117,
   "metadata": {},
   "outputs": [
    {
     "ename": "KeyError",
     "evalue": "0",
     "output_type": "error",
     "traceback": [
      "\u001b[1;31m---------------------------------------------------------------------------\u001b[0m",
      "\u001b[1;31mKeyError\u001b[0m                                  Traceback (most recent call last)",
      "\u001b[1;32mC:\\Anaconda3\\lib\\site-packages\\pandas\\core\\indexes\\base.py\u001b[0m in \u001b[0;36mget_loc\u001b[1;34m(self, key, method, tolerance)\u001b[0m\n\u001b[0;32m   2656\u001b[0m             \u001b[1;32mtry\u001b[0m\u001b[1;33m:\u001b[0m\u001b[1;33m\u001b[0m\u001b[1;33m\u001b[0m\u001b[0m\n\u001b[1;32m-> 2657\u001b[1;33m                 \u001b[1;32mreturn\u001b[0m \u001b[0mself\u001b[0m\u001b[1;33m.\u001b[0m\u001b[0m_engine\u001b[0m\u001b[1;33m.\u001b[0m\u001b[0mget_loc\u001b[0m\u001b[1;33m(\u001b[0m\u001b[0mkey\u001b[0m\u001b[1;33m)\u001b[0m\u001b[1;33m\u001b[0m\u001b[1;33m\u001b[0m\u001b[0m\n\u001b[0m\u001b[0;32m   2658\u001b[0m             \u001b[1;32mexcept\u001b[0m \u001b[0mKeyError\u001b[0m\u001b[1;33m:\u001b[0m\u001b[1;33m\u001b[0m\u001b[1;33m\u001b[0m\u001b[0m\n",
      "\u001b[1;32mpandas/_libs/index.pyx\u001b[0m in \u001b[0;36mpandas._libs.index.IndexEngine.get_loc\u001b[1;34m()\u001b[0m\n",
      "\u001b[1;32mpandas/_libs/index.pyx\u001b[0m in \u001b[0;36mpandas._libs.index.IndexEngine.get_loc\u001b[1;34m()\u001b[0m\n",
      "\u001b[1;32mpandas/_libs/hashtable_class_helper.pxi\u001b[0m in \u001b[0;36mpandas._libs.hashtable.Int64HashTable.get_item\u001b[1;34m()\u001b[0m\n",
      "\u001b[1;32mpandas/_libs/hashtable_class_helper.pxi\u001b[0m in \u001b[0;36mpandas._libs.hashtable.Int64HashTable.get_item\u001b[1;34m()\u001b[0m\n",
      "\u001b[1;31mKeyError\u001b[0m: 0",
      "\nDuring handling of the above exception, another exception occurred:\n",
      "\u001b[1;31mKeyError\u001b[0m                                  Traceback (most recent call last)",
      "\u001b[1;32m<ipython-input-117-560b90c2a1a1>\u001b[0m in \u001b[0;36m<module>\u001b[1;34m\u001b[0m\n\u001b[1;32m----> 1\u001b[1;33m \u001b[0mprint\u001b[0m\u001b[1;33m(\u001b[0m\u001b[0mdfColunasParaDicionarizar\u001b[0m\u001b[1;33m.\u001b[0m\u001b[0mloc\u001b[0m\u001b[1;33m[\u001b[0m\u001b[1;36m0\u001b[0m\u001b[1;33m]\u001b[0m\u001b[1;33m)\u001b[0m\u001b[1;33m\u001b[0m\u001b[1;33m\u001b[0m\u001b[0m\n\u001b[0m",
      "\u001b[1;32mC:\\Anaconda3\\lib\\site-packages\\pandas\\core\\indexing.py\u001b[0m in \u001b[0;36m__getitem__\u001b[1;34m(self, key)\u001b[0m\n\u001b[0;32m   1498\u001b[0m \u001b[1;33m\u001b[0m\u001b[0m\n\u001b[0;32m   1499\u001b[0m             \u001b[0mmaybe_callable\u001b[0m \u001b[1;33m=\u001b[0m \u001b[0mcom\u001b[0m\u001b[1;33m.\u001b[0m\u001b[0mapply_if_callable\u001b[0m\u001b[1;33m(\u001b[0m\u001b[0mkey\u001b[0m\u001b[1;33m,\u001b[0m \u001b[0mself\u001b[0m\u001b[1;33m.\u001b[0m\u001b[0mobj\u001b[0m\u001b[1;33m)\u001b[0m\u001b[1;33m\u001b[0m\u001b[1;33m\u001b[0m\u001b[0m\n\u001b[1;32m-> 1500\u001b[1;33m             \u001b[1;32mreturn\u001b[0m \u001b[0mself\u001b[0m\u001b[1;33m.\u001b[0m\u001b[0m_getitem_axis\u001b[0m\u001b[1;33m(\u001b[0m\u001b[0mmaybe_callable\u001b[0m\u001b[1;33m,\u001b[0m \u001b[0maxis\u001b[0m\u001b[1;33m=\u001b[0m\u001b[0maxis\u001b[0m\u001b[1;33m)\u001b[0m\u001b[1;33m\u001b[0m\u001b[1;33m\u001b[0m\u001b[0m\n\u001b[0m\u001b[0;32m   1501\u001b[0m \u001b[1;33m\u001b[0m\u001b[0m\n\u001b[0;32m   1502\u001b[0m     \u001b[1;32mdef\u001b[0m \u001b[0m_is_scalar_access\u001b[0m\u001b[1;33m(\u001b[0m\u001b[0mself\u001b[0m\u001b[1;33m,\u001b[0m \u001b[0mkey\u001b[0m\u001b[1;33m)\u001b[0m\u001b[1;33m:\u001b[0m\u001b[1;33m\u001b[0m\u001b[1;33m\u001b[0m\u001b[0m\n",
      "\u001b[1;32mC:\\Anaconda3\\lib\\site-packages\\pandas\\core\\indexing.py\u001b[0m in \u001b[0;36m_getitem_axis\u001b[1;34m(self, key, axis)\u001b[0m\n\u001b[0;32m   1911\u001b[0m         \u001b[1;31m# fall thru to straight lookup\u001b[0m\u001b[1;33m\u001b[0m\u001b[1;33m\u001b[0m\u001b[1;33m\u001b[0m\u001b[0m\n\u001b[0;32m   1912\u001b[0m         \u001b[0mself\u001b[0m\u001b[1;33m.\u001b[0m\u001b[0m_validate_key\u001b[0m\u001b[1;33m(\u001b[0m\u001b[0mkey\u001b[0m\u001b[1;33m,\u001b[0m \u001b[0maxis\u001b[0m\u001b[1;33m)\u001b[0m\u001b[1;33m\u001b[0m\u001b[1;33m\u001b[0m\u001b[0m\n\u001b[1;32m-> 1913\u001b[1;33m         \u001b[1;32mreturn\u001b[0m \u001b[0mself\u001b[0m\u001b[1;33m.\u001b[0m\u001b[0m_get_label\u001b[0m\u001b[1;33m(\u001b[0m\u001b[0mkey\u001b[0m\u001b[1;33m,\u001b[0m \u001b[0maxis\u001b[0m\u001b[1;33m=\u001b[0m\u001b[0maxis\u001b[0m\u001b[1;33m)\u001b[0m\u001b[1;33m\u001b[0m\u001b[1;33m\u001b[0m\u001b[0m\n\u001b[0m\u001b[0;32m   1914\u001b[0m \u001b[1;33m\u001b[0m\u001b[0m\n\u001b[0;32m   1915\u001b[0m \u001b[1;33m\u001b[0m\u001b[0m\n",
      "\u001b[1;32mC:\\Anaconda3\\lib\\site-packages\\pandas\\core\\indexing.py\u001b[0m in \u001b[0;36m_get_label\u001b[1;34m(self, label, axis)\u001b[0m\n\u001b[0;32m    139\u001b[0m             \u001b[1;32mraise\u001b[0m \u001b[0mIndexingError\u001b[0m\u001b[1;33m(\u001b[0m\u001b[1;34m'no slices here, handle elsewhere'\u001b[0m\u001b[1;33m)\u001b[0m\u001b[1;33m\u001b[0m\u001b[1;33m\u001b[0m\u001b[0m\n\u001b[0;32m    140\u001b[0m \u001b[1;33m\u001b[0m\u001b[0m\n\u001b[1;32m--> 141\u001b[1;33m         \u001b[1;32mreturn\u001b[0m \u001b[0mself\u001b[0m\u001b[1;33m.\u001b[0m\u001b[0mobj\u001b[0m\u001b[1;33m.\u001b[0m\u001b[0m_xs\u001b[0m\u001b[1;33m(\u001b[0m\u001b[0mlabel\u001b[0m\u001b[1;33m,\u001b[0m \u001b[0maxis\u001b[0m\u001b[1;33m=\u001b[0m\u001b[0maxis\u001b[0m\u001b[1;33m)\u001b[0m\u001b[1;33m\u001b[0m\u001b[1;33m\u001b[0m\u001b[0m\n\u001b[0m\u001b[0;32m    142\u001b[0m \u001b[1;33m\u001b[0m\u001b[0m\n\u001b[0;32m    143\u001b[0m     \u001b[1;32mdef\u001b[0m \u001b[0m_get_loc\u001b[0m\u001b[1;33m(\u001b[0m\u001b[0mself\u001b[0m\u001b[1;33m,\u001b[0m \u001b[0mkey\u001b[0m\u001b[1;33m,\u001b[0m \u001b[0maxis\u001b[0m\u001b[1;33m=\u001b[0m\u001b[1;32mNone\u001b[0m\u001b[1;33m)\u001b[0m\u001b[1;33m:\u001b[0m\u001b[1;33m\u001b[0m\u001b[1;33m\u001b[0m\u001b[0m\n",
      "\u001b[1;32mC:\\Anaconda3\\lib\\site-packages\\pandas\\core\\generic.py\u001b[0m in \u001b[0;36mxs\u001b[1;34m(self, key, axis, level, drop_level)\u001b[0m\n\u001b[0;32m   3583\u001b[0m                                                       drop_level=drop_level)\n\u001b[0;32m   3584\u001b[0m         \u001b[1;32melse\u001b[0m\u001b[1;33m:\u001b[0m\u001b[1;33m\u001b[0m\u001b[1;33m\u001b[0m\u001b[0m\n\u001b[1;32m-> 3585\u001b[1;33m             \u001b[0mloc\u001b[0m \u001b[1;33m=\u001b[0m \u001b[0mself\u001b[0m\u001b[1;33m.\u001b[0m\u001b[0mindex\u001b[0m\u001b[1;33m.\u001b[0m\u001b[0mget_loc\u001b[0m\u001b[1;33m(\u001b[0m\u001b[0mkey\u001b[0m\u001b[1;33m)\u001b[0m\u001b[1;33m\u001b[0m\u001b[1;33m\u001b[0m\u001b[0m\n\u001b[0m\u001b[0;32m   3586\u001b[0m \u001b[1;33m\u001b[0m\u001b[0m\n\u001b[0;32m   3587\u001b[0m             \u001b[1;32mif\u001b[0m \u001b[0misinstance\u001b[0m\u001b[1;33m(\u001b[0m\u001b[0mloc\u001b[0m\u001b[1;33m,\u001b[0m \u001b[0mnp\u001b[0m\u001b[1;33m.\u001b[0m\u001b[0mndarray\u001b[0m\u001b[1;33m)\u001b[0m\u001b[1;33m:\u001b[0m\u001b[1;33m\u001b[0m\u001b[1;33m\u001b[0m\u001b[0m\n",
      "\u001b[1;32mC:\\Anaconda3\\lib\\site-packages\\pandas\\core\\indexes\\base.py\u001b[0m in \u001b[0;36mget_loc\u001b[1;34m(self, key, method, tolerance)\u001b[0m\n\u001b[0;32m   2657\u001b[0m                 \u001b[1;32mreturn\u001b[0m \u001b[0mself\u001b[0m\u001b[1;33m.\u001b[0m\u001b[0m_engine\u001b[0m\u001b[1;33m.\u001b[0m\u001b[0mget_loc\u001b[0m\u001b[1;33m(\u001b[0m\u001b[0mkey\u001b[0m\u001b[1;33m)\u001b[0m\u001b[1;33m\u001b[0m\u001b[1;33m\u001b[0m\u001b[0m\n\u001b[0;32m   2658\u001b[0m             \u001b[1;32mexcept\u001b[0m \u001b[0mKeyError\u001b[0m\u001b[1;33m:\u001b[0m\u001b[1;33m\u001b[0m\u001b[1;33m\u001b[0m\u001b[0m\n\u001b[1;32m-> 2659\u001b[1;33m                 \u001b[1;32mreturn\u001b[0m \u001b[0mself\u001b[0m\u001b[1;33m.\u001b[0m\u001b[0m_engine\u001b[0m\u001b[1;33m.\u001b[0m\u001b[0mget_loc\u001b[0m\u001b[1;33m(\u001b[0m\u001b[0mself\u001b[0m\u001b[1;33m.\u001b[0m\u001b[0m_maybe_cast_indexer\u001b[0m\u001b[1;33m(\u001b[0m\u001b[0mkey\u001b[0m\u001b[1;33m)\u001b[0m\u001b[1;33m)\u001b[0m\u001b[1;33m\u001b[0m\u001b[1;33m\u001b[0m\u001b[0m\n\u001b[0m\u001b[0;32m   2660\u001b[0m         \u001b[0mindexer\u001b[0m \u001b[1;33m=\u001b[0m \u001b[0mself\u001b[0m\u001b[1;33m.\u001b[0m\u001b[0mget_indexer\u001b[0m\u001b[1;33m(\u001b[0m\u001b[1;33m[\u001b[0m\u001b[0mkey\u001b[0m\u001b[1;33m]\u001b[0m\u001b[1;33m,\u001b[0m \u001b[0mmethod\u001b[0m\u001b[1;33m=\u001b[0m\u001b[0mmethod\u001b[0m\u001b[1;33m,\u001b[0m \u001b[0mtolerance\u001b[0m\u001b[1;33m=\u001b[0m\u001b[0mtolerance\u001b[0m\u001b[1;33m)\u001b[0m\u001b[1;33m\u001b[0m\u001b[1;33m\u001b[0m\u001b[0m\n\u001b[0;32m   2661\u001b[0m         \u001b[1;32mif\u001b[0m \u001b[0mindexer\u001b[0m\u001b[1;33m.\u001b[0m\u001b[0mndim\u001b[0m \u001b[1;33m>\u001b[0m \u001b[1;36m1\u001b[0m \u001b[1;32mor\u001b[0m \u001b[0mindexer\u001b[0m\u001b[1;33m.\u001b[0m\u001b[0msize\u001b[0m \u001b[1;33m>\u001b[0m \u001b[1;36m1\u001b[0m\u001b[1;33m:\u001b[0m\u001b[1;33m\u001b[0m\u001b[1;33m\u001b[0m\u001b[0m\n",
      "\u001b[1;32mpandas/_libs/index.pyx\u001b[0m in \u001b[0;36mpandas._libs.index.IndexEngine.get_loc\u001b[1;34m()\u001b[0m\n",
      "\u001b[1;32mpandas/_libs/index.pyx\u001b[0m in \u001b[0;36mpandas._libs.index.IndexEngine.get_loc\u001b[1;34m()\u001b[0m\n",
      "\u001b[1;32mpandas/_libs/hashtable_class_helper.pxi\u001b[0m in \u001b[0;36mpandas._libs.hashtable.Int64HashTable.get_item\u001b[1;34m()\u001b[0m\n",
      "\u001b[1;32mpandas/_libs/hashtable_class_helper.pxi\u001b[0m in \u001b[0;36mpandas._libs.hashtable.Int64HashTable.get_item\u001b[1;34m()\u001b[0m\n",
      "\u001b[1;31mKeyError\u001b[0m: 0"
     ]
    }
   ],
   "source": [
    "print(dfColunasParaDicionarizar.loc[0])"
   ]
  },
  {
   "cell_type": "code",
   "execution_count": 110,
   "metadata": {},
   "outputs": [],
   "source": [
    "def buscarestaurante(valorpredicao):\n",
    "    for item in range(len(y_train)):\n",
    "        if y_train.values[item] == [predicaovalor[0]]:\n",
    "                return dfColunasParaDicionarizar.loc[[item]]"
   ]
  },
  {
   "cell_type": "code",
   "execution_count": 118,
   "metadata": {},
   "outputs": [],
   "source": [
    "restaurante = buscarestaurante(predicaovalor[[0]])"
   ]
  },
  {
   "cell_type": "code",
   "execution_count": 113,
   "metadata": {},
   "outputs": [
    {
     "name": "stdout",
     "output_type": "stream",
     "text": [
      "     cozinha taxa_votos  media_preco  alcance_preco  classifi_agregada  votos\n",
      "13  Filipino  Very Good         1000              3                4.2    458\n"
     ]
    }
   ],
   "source": [
    "print(restaurante)"
   ]
  },
  {
   "cell_type": "code",
   "execution_count": 114,
   "metadata": {},
   "outputs": [
    {
     "name": "stdout",
     "output_type": "stream",
     "text": [
      "1       40\n",
      "5       22\n",
      "9       27\n",
      "13      27\n",
      "14      45\n",
      "17      27\n",
      "23      19\n",
      "24      10\n",
      "25      15\n",
      "26      59\n",
      "27      40\n",
      "28       4\n",
      "29      40\n",
      "31      39\n",
      "32      59\n",
      "35      37\n",
      "38      62\n",
      "39      37\n",
      "40      39\n",
      "46      46\n",
      "47      18\n",
      "51      15\n",
      "52      15\n",
      "53      39\n",
      "54      40\n",
      "56      15\n",
      "59      15\n",
      "64      35\n",
      "65      15\n",
      "69      15\n",
      "        ..\n",
      "9441    19\n",
      "9444    50\n",
      "9446    65\n",
      "9458    66\n",
      "9463     2\n",
      "9465     1\n",
      "9467    35\n",
      "9470    51\n",
      "9474    24\n",
      "9484    28\n",
      "9485    19\n",
      "9489    51\n",
      "9490    39\n",
      "9493    51\n",
      "9494    64\n",
      "9495    50\n",
      "9497    22\n",
      "9514    62\n",
      "9517    19\n",
      "9518    43\n",
      "9522    43\n",
      "9526    64\n",
      "9528    19\n",
      "9531    19\n",
      "9536    59\n",
      "9537    25\n",
      "9538    19\n",
      "9543    19\n",
      "9546    70\n",
      "9550    19\n",
      "Name: cozinha, Length: 1679, dtype: category\n",
      "Categories (72, int64): [0, 1, 2, 3, ..., 68, 69, 70, 71]\n"
     ]
    }
   ],
   "source": [
    "print(y_train)"
   ]
  },
  {
   "cell_type": "markdown",
   "metadata": {},
   "source": [
    "# Salvando o modelo do treinamento"
   ]
  },
  {
   "cell_type": "code",
   "execution_count": 158,
   "metadata": {},
   "outputs": [],
   "source": [
    "pickle.dump(labelencoder_dict, open('labelencoder_dict.sav', 'wb'))"
   ]
  },
  {
   "cell_type": "code",
   "execution_count": 159,
   "metadata": {},
   "outputs": [],
   "source": [
    "pickle.dump(onehotencoder_dict, open('onehotencoder_dict.sav', 'wb'))"
   ]
  },
  {
   "cell_type": "code",
   "execution_count": 71,
   "metadata": {},
   "outputs": [],
   "source": [
    "pickle.dump(xg_boost, open('modelo_para_cozinha.pkl', 'wb'))"
   ]
  },
  {
   "cell_type": "markdown",
   "metadata": {},
   "source": [
    "# Abrindo o modelo para classificação"
   ]
  },
  {
   "cell_type": "code",
   "execution_count": 164,
   "metadata": {},
   "outputs": [],
   "source": [
    "labelencoder_dictArquivo = open('labelencoder_dict.sav', 'rb')"
   ]
  },
  {
   "cell_type": "code",
   "execution_count": 165,
   "metadata": {},
   "outputs": [],
   "source": [
    "onehotencoder_dictArquivo = open('onehotencoder_dict.sav', 'rb')"
   ]
  },
  {
   "cell_type": "code",
   "execution_count": 166,
   "metadata": {},
   "outputs": [],
   "source": [
    "labelencoder_dict_carregado = pickle.load(labelencoder_dictArquivo)"
   ]
  },
  {
   "cell_type": "code",
   "execution_count": 167,
   "metadata": {},
   "outputs": [
    {
     "data": {
      "text/plain": [
       "dict"
      ]
     },
     "execution_count": 167,
     "metadata": {},
     "output_type": "execute_result"
    }
   ],
   "source": [
    "type(labelencoder_dict_carregado)"
   ]
  },
  {
   "cell_type": "code",
   "execution_count": 154,
   "metadata": {},
   "outputs": [],
   "source": [
    "arquivo = open('modeloTreinadoMoveMeTeste.pkl', 'rb')"
   ]
  },
  {
   "cell_type": "code",
   "execution_count": 155,
   "metadata": {},
   "outputs": [],
   "source": [
    "modelo_carregado = pickle.load(arquivo)"
   ]
  },
  {
   "cell_type": "code",
   "execution_count": 156,
   "metadata": {},
   "outputs": [],
   "source": [
    "numero = modelo_carregado.predict(dfConcatenadoPraPredicao)"
   ]
  },
  {
   "cell_type": "markdown",
   "metadata": {},
   "source": [
    "# Realizando um predição com o modelo salvo"
   ]
  },
  {
   "cell_type": "code",
   "execution_count": 157,
   "metadata": {},
   "outputs": [
    {
     "name": "stdout",
     "output_type": "stream",
     "text": [
      "Média de preço predição carregada para características buscadas:  [170]\n"
     ]
    }
   ],
   "source": [
    "print(\"Média de preço predição carregada para características buscadas: \", modelo_carregado.predict(dfConcatenadoPraPredicao))"
   ]
  },
  {
   "cell_type": "code",
   "execution_count": null,
   "metadata": {},
   "outputs": [],
   "source": []
  }
 ],
 "metadata": {
  "kernelspec": {
   "display_name": "Python 3",
   "language": "python",
   "name": "python3"
  },
  "language_info": {
   "codemirror_mode": {
    "name": "ipython",
    "version": 3
   },
   "file_extension": ".py",
   "mimetype": "text/x-python",
   "name": "python",
   "nbconvert_exporter": "python",
   "pygments_lexer": "ipython3",
   "version": "3.7.3"
  }
 },
 "nbformat": 4,
 "nbformat_minor": 2
}
